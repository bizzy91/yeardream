{
 "cells": [
  {
   "cell_type": "markdown",
   "id": "70498a36",
   "metadata": {},
   "source": [
    "### 원소의 개수세기 / 꺼내기\n",
    "\n",
    "리스트에 원소의 개수를 세고, 인덱스로 원소를 꺼내는 방법은 다음과 같습니다.\n",
    "\n",
    "* 원소의 개수세기 : 시퀀스이름.count(자료)\n",
    "* 인덱스로 원소 꺼내기 : 리스트이름.pop(인덱스) \n",
    "\n",
    "단, 존재하지 않는 인덱스를 pop할 경우 Python은 오류를 발생시킵니다.\n",
    "\n",
    "```Python\n",
    "my_list = [1, 2, 3, 3, 4, 5]\n",
    "print(my_list.count(3)) #2\n",
    "print(my_list.pop()) #5\n",
    "print(my_list.pop(5)) #Error!\n",
    "```\n",
    "\n",
    "실습을 따라해보면서 원소의 개수를 세고 꺼내는 방법을 익혀봅시다."
   ]
  },
  {
   "cell_type": "code",
   "execution_count": 3,
   "id": "943793a1",
   "metadata": {},
   "outputs": [
    {
     "name": "stdout",
     "output_type": "stream",
     "text": [
      "3\n",
      "[1, 2, 3, 3, 3]\n",
      "[1, 2, 3, 3]\n",
      "[1, 2, 3]\n"
     ]
    }
   ],
   "source": [
    "# 1. 숫자 1, 2, 2, 3, 3, 3이 담긴 리스트 my_list를 하나 선언해봅시다.\n",
    "my_list = [1, 2, 2, 3, 3, 3]\n",
    "\n",
    "# 2. my_list 안의 숫자 3의 개수를 변수 var1에 넣어봅시다.\n",
    "var1 = my_list.count(3)\n",
    "print(var1)\n",
    "\n",
    "# 3. 일부 원소를 제거하여 my_list가 [1, 2, 3]이 되도록 해봅시다.\n",
    "my_list.remove(2)\n",
    "print(my_list)\n",
    "my_list.pop()\n",
    "print(my_list)\n",
    "my_list.pop()\n",
    "print(my_list)"
   ]
  },
  {
   "cell_type": "markdown",
   "id": "c4787f96",
   "metadata": {},
   "source": [
    "### 리스트를 쪼개고, 붙이기!\n",
    "\n",
    "리스트를 문자열로 바꾸고, 문자열을 리스트로 바꾸는 방법은 다음과 같습니다.\n",
    "\n",
    "* 문자열 → 리스트 : 쪼갤 문자열.split(기준 문자열)\n",
    "* 리스트 → 문자열 : 연결할 문자열.join(리스트)\n",
    "\n",
    "이때,\n",
    "\n",
    "* 연결할 문자열 : 리스트의 원소와 원소 사이에 들어가는 문자열\n",
    "* 쪼갤 문자열 : 쪼개서 리스트로 만들 문자열\n",
    "* 기준 문자열 : 쪼갤 때 기준이 되는 문자열(쪼개진 후에는 기준 문자열은 삭제됨)\n",
    "    \n",
    "을 의미합니다. 각 자리에 어떤 자료가 들어가는지 위치를 음미해보세요! :)\n",
    "\n",
    "```Python\n",
    "my_str = \"1/2/3/4/5\"\n",
    "print(my_str.split('/')) #['1', '2', '3', '4', '5'] \n",
    "\n",
    "my_list = [\"나\", \"너\", \"우리\"]\n",
    "print(\" 그리고 \".join(my_list)) #나 그리고 너 그리고 우리\n",
    "```\n",
    "\n",
    "실습을 따라해보면서 리스트를 쪼개고 붙이는 방법을 익혀봅시다."
   ]
  },
  {
   "cell_type": "code",
   "execution_count": 4,
   "id": "0091ace3",
   "metadata": {},
   "outputs": [
    {
     "name": "stdout",
     "output_type": "stream",
     "text": [
      "['b', '', 't', 'a']\n",
      "Seeing is Believing\n"
     ]
    }
   ],
   "source": [
    "# 1. 문자열 “beetea”가 담긴 변수 my_str를 선언해봅시다.\n",
    "my_str = 'beetea'\n",
    "\n",
    "# 2. 문자열 ‘e’를 기준으로 my_str를 리스트로 만든 다음, 이를 변수 var1에 담아봅시다.\n",
    "var1 = list(my_str.split('e'))\n",
    "print(var1)\n",
    "# 3. 리스트 [\"Seeing\", \"is\", \"Believing\"]이 담긴 변수 my_list를 선언해봅시다.\n",
    "my_list = [\"Seeing\", \"is\", \"Believing\"]\n",
    "\n",
    "# 4. 공백( )을 기준으로 my_list를 문자열로 만들어보고, 이를 변수 var2에 담아봅시다.\n",
    "var2 = \" \".join(my_list)\n",
    "print(var2)"
   ]
  },
  {
   "cell_type": "markdown",
   "id": "601d3aa0",
   "metadata": {},
   "source": [
    "### 간단한 데이터 분석? Python에게 맡기세요!\n",
    "\n",
    "이번 1장에서 배운 내용으로 간단하게 문자열을 분석할 수 있습니다.\n",
    "\n",
    "콤마(,)로 구분된 노래가사 문자열 lyrics가 주어질 때, 이를 리스트에 담은 다음, 46번째 구절이 무엇인지 출력해봅시다."
   ]
  },
  {
   "cell_type": "code",
   "execution_count": 5,
   "id": "3354a58b",
   "metadata": {},
   "outputs": [
    {
     "name": "stdout",
     "output_type": "stream",
     "text": [
      "좋아했었어\n"
     ]
    }
   ],
   "source": [
    "lyrics = \"낙엽을,닮은,너의,눈동자를,나는,정말,정말,좋아했었어,가을을,닮은,너의,목소리를,나는,아직,아직,잊지,못했어,같이,걸으면서,들었던,낙엽,소리가,내,귓가에,들려오는,것만,같아,함께,앉아,있던,좁다란,나무,벤치엔,너의,온기가,남아있는,것만,같아,낙엽을,닮은,너의,눈동자를,나는,정말,정말,좋아했었어,가을을,닮은,너의,목소리를,나는,아직,아직,잊지,못했어\"\n",
    "\n",
    "lyrics_list = list(lyrics.split(','))\n",
    "print(lyrics_list[45])"
   ]
  },
  {
   "cell_type": "markdown",
   "id": "6e195521",
   "metadata": {},
   "source": [
    "### 변하지 않는 편안함, Tuple\n",
    "\n",
    "여러 자료형을 담을 수 있지만 변할 수 없는 자료형을 우리는 Tuple(튜플)이라고 부릅니다.\n",
    "\n",
    "튜플을 다음과 같은 방법으로 만들 수 있습니다.\n",
    "\n",
    "```Python\n",
    "tuple_zero = ()\n",
    "tuple_one = ('a',)\n",
    "tuple_many = ('a', 'b', 'c', 'd', 'e')\n",
    "tuple_no_gwalho = 'a', 'b', 'c', 'd', 'e'\n",
    "```\n",
    "\n",
    "실습을 따라해보면서 튜플을 선언하고, 튜플로 무엇을 할 수 있을지 익혀봅시다."
   ]
  },
  {
   "cell_type": "code",
   "execution_count": 7,
   "id": "2b753496",
   "metadata": {},
   "outputs": [
    {
     "name": "stdout",
     "output_type": "stream",
     "text": [
      "(1, 2, 3, 4, 5)\n",
      "3\n",
      "(2, 3, 4)\n",
      "5\n"
     ]
    }
   ],
   "source": [
    "# 1. 숫자 1, 2, 3, 4, 5이 담긴 튜플 my_tuple을 하나 선언해봅시다.\n",
    "my_tuple = (1, 2, 3, 4, 5)\n",
    "print(my_tuple)\n",
    "\n",
    "# 2. my_tuple의 인덱스 2의 원소를 변수 var1에 넣어봅시다.\n",
    "var1 = my_tuple[2]\n",
    "print(var1)\n",
    "\n",
    "# 3. my_tuple의 인덱스 1, 2, 3의 원소를 슬라이싱하여 변수 var2에 넣어봅시다.\n",
    "var2 = my_tuple[1:4]\n",
    "print(var2)\n",
    "\n",
    "# 4. my_tuple의 길이를 변수 var3에 넣어봅시다.\n",
    "var3 = len(my_tuple)\n",
    "print(var3)"
   ]
  },
  {
   "cell_type": "markdown",
   "id": "749e1ac7",
   "metadata": {},
   "source": [
    "### 대결! Tuple vs List\n",
    "\n",
    "리스트와 튜플은 비슷한 점이 많습니다. 하지만 리스트는 내부 원소의 값을 수정, 삭제, 추가가 가능하고, 튜플은 이것이 불가능합니다.\n",
    "\n",
    "```Python\n",
    "my_tuple = (1, 2, 3)\n",
    "my_list = [1, 2, 3]\n",
    "\n",
    "my_tuple.append(4) #Error!\n",
    "my_tuple.pop() #Error!\n",
    "my_tuple[0] = 4 #Error!\n",
    "\n",
    "my_list.append(4) #OK\n",
    "my_list.pop() #OK\n",
    "my_list[0] = 4 #OK\n",
    "```\n",
    "\n",
    "실습을 따라해보면서 튜플의 원소의 값을 수정, 삭제, 추가하려고 시도해봅시다."
   ]
  },
  {
   "cell_type": "code",
   "execution_count": 8,
   "id": "4452e327",
   "metadata": {},
   "outputs": [
    {
     "name": "stdout",
     "output_type": "stream",
     "text": [
      "Tuple은 값을 변경할 수 없습니다.\n",
      "Tuple은 값을 추가할 수 없습니다.\n"
     ]
    }
   ],
   "source": [
    "my_tuple = (1, 2, 3)\n",
    "\n",
    "try:\n",
    "    #여기에 인덱싱을 이용해서 Tuple의 값을 변경해봅시다.\n",
    "    my_tuple[2] = 1\n",
    "    \n",
    "except TypeError:\n",
    "    print(\"Tuple은 값을 변경할 수 없습니다.\")\n",
    "    \n",
    "try:\n",
    "    #여기에 .append()를 이용해서 Tuple의 값을 추가해봅시다.\n",
    "    my_tuple.append(3)    \n",
    "    \n",
    "except AttributeError:\n",
    "    print(\"Tuple은 값을 추가할 수 없습니다.\")"
   ]
  },
  {
   "cell_type": "markdown",
   "id": "a67ba5d6",
   "metadata": {},
   "source": [
    "### 넌 나랑 한패! Dictionary\n",
    "\n",
    "자료형 중에는 관계를 만들 수 있는 자료형이 있습니다. 이를 Dictionary(딕셔너리 : 사전형) 자료라고 합니다.\n",
    "\n",
    "```Python\n",
    "dict_zero = {}\n",
    "dict_one = {\"one\":1}\n",
    "dict_three= {\"one\":1, \"two\":2, \"three\":3}\n",
    "```\n",
    "\n",
    "실습을 따라해보면서 사전을 만드는 방법을 익혀봅시다."
   ]
  },
  {
   "cell_type": "code",
   "execution_count": 11,
   "id": "e998d50d",
   "metadata": {},
   "outputs": [
    {
     "name": "stdout",
     "output_type": "stream",
     "text": [
      "{'사과': 'apple', '바나나': 'banana', '당근': 'carrot'}\n",
      "apple\n",
      "{'사과': 'apple', '바나나': 'banana'}\n",
      "{'사과': 'apple', '바나나': 'banana', '체리': 'cherry'}\n"
     ]
    }
   ],
   "source": [
    "# 1.다음 대응관계가 담긴 Dictionary를 하나 만들고, 이를 변수 my_dict에 넣어봅시다.\n",
    "'''\n",
    "“사과” → “apple”\n",
    "“바나나” → “banana”\n",
    "“당근” → “carrot”\n",
    "'''\n",
    "my_dict = {\n",
    "    '사과' : 'apple',\n",
    "    '바나나' : 'banana',\n",
    "    '당근' : 'carrot',\n",
    "}\n",
    "print(my_dict)\n",
    "\n",
    "# 2. 사과를 영어로 뭐라고 할까요? my_dict에서 “사과”를 Key로 넣어 나온 Value를 변수 var1에 넣어봅시다.\n",
    "var1 = my_dict['사과']\n",
    "print(var1)\n",
    "\n",
    "# 3. 당근은 싫어요! my_dict에서 당근-carrot을 제거해봅시다.\n",
    "del my_dict['당근']\n",
    "print(my_dict)\n",
    "\n",
    "# 4. 체리는 좋아요! my_dict에서 체리-cherry를 추가해봅시다.\n",
    "my_dict['체리'] = 'cherry'\n",
    "print(my_dict)"
   ]
  },
  {
   "cell_type": "markdown",
   "id": "be5d386a",
   "metadata": {},
   "source": [
    "### 열쇠가 고장나면 자물쇠를 열 수 없죠! 그렇다면 Dictionary도?!\n",
    "\n",
    "Dictionary에서 Key는 Value를 가져오기 위한 중요한 요소입니다. 그렇기 때문에 Key는 변할 수 없는 자료형이여야 합니다. 또한, 2개 이상의 동일한 Key가 있어선 안 됩니다.\n",
    "\n",
    "```Python\n",
    "my_dict = {1:\"One\", 1:\"Yi\"} #Bad\n",
    "my_dict = {[1, 2, 3]:\"Numbers\"} #Error...\n",
    "my_dict = {(1, 2, 3):\"Numbers\"} #OK!\n",
    "```\n",
    "\n",
    "따라서 여러 자료의 묶음을 Key로 설정하고 싶다면, List가 아닌 Tuple을 사용하세요!\n",
    "\n",
    "실습을 따라해보면서 Key로 설정할 수 있는 자료가 무엇인지 익혀봅시다."
   ]
  },
  {
   "cell_type": "code",
   "execution_count": 12,
   "id": "616ccdc8",
   "metadata": {},
   "outputs": [
    {
     "name": "stdout",
     "output_type": "stream",
     "text": [
      "{1: 'Integer', 'a': 'String', (1, 2, 3): 'Tuple'}\n",
      "List는 Dictionary의 Key가 될 수 없습니다.\n"
     ]
    }
   ],
   "source": [
    "# 1. 빈 Dictionary를 만들고, 이를 변수 my_dict에 넣어봅시다.\n",
    "my_dict = {}\n",
    "\n",
    "# 2. my_dict에 다음 대응관계를 넣어봅시다.\n",
    "my_dict[1] = \"Integer\"\n",
    "my_dict[\"a\"] = \"String\"\n",
    "my_dict[(1, 2, 3)] = \"Tuple\"\n",
    "print(my_dict)\n",
    "# 3. my_dict에 다음 대응관계를 추가하는 코드를 10번째 줄에 작성해봅시다.\n",
    "try:\n",
    "    my_dict[[1, 2, 3]] = \"List\" \n",
    "except TypeError:\n",
    "    print(\"List는 Dictionary의 Key가 될 수 없습니다.\")"
   ]
  },
  {
   "cell_type": "markdown",
   "id": "fee9ccbf",
   "metadata": {},
   "source": [
    "### Bello, Tulaliloo ti amo!\n",
    "\n",
    "영화 <슈퍼 배드>에 나오는 미니언즈는 Minionese라고 하는 신기한 언어를 사용합니다.\n",
    "우리가 미니언 용어를 모르기 때문에 Minionese를 한국어로 번역해주는 사전을 하나 만들고자 합니다.\n",
    "\n",
    "아래 미니언 용어 사전을 참고해서\n",
    "\n",
    "key = Minionese, \n",
    "\n",
    "value = 한국어\n",
    "\n",
    "인 Dictionary를 변수 miniWord에 담아봅시다.\n",
    "\n",
    "| Minionese\t| 한국어 |\n",
    "| - | - |\n",
    "| Bello | 안녕 |\n",
    "| Poopaye\t| 잘가 |\n",
    "| Tank_yu\t| 고마워 |\n",
    "| Tulaliloo_ti_amo\t| 우린 너를 사랑해 |\n",
    "\n"
   ]
  },
  {
   "cell_type": "code",
   "execution_count": 13,
   "id": "4a1e9e1d",
   "metadata": {},
   "outputs": [
    {
     "name": "stdout",
     "output_type": "stream",
     "text": [
      "안녕\n",
      "안녕\n",
      "우린 너를 사랑해\n",
      "고마워\n",
      "잘가\n",
      "잘가\n"
     ]
    }
   ],
   "source": [
    "cvs = [\"Bello\", \"Bello\", \"Tulaliloo_ti_amo\", \"Tank_yu\", \"Poopaye\", \"Poopaye\"]\n",
    "\n",
    "# Minionese와 한국어가 담긴 miniWord 딕셔너리를 만드세요.\n",
    "miniWord = {\n",
    "    \"Bello\" : \"안녕\",\n",
    "    \"Poopaye\" : \"잘가\",\n",
    "    \"Tank_yu\" : \"고마워\",\n",
    "    \"Tulaliloo_ti_amo\" : \"우린 너를 사랑해\"\n",
    "}\n",
    "\n",
    "for i in cvs:\n",
    "    print(miniWord[i])"
   ]
  },
  {
   "cell_type": "code",
   "execution_count": null,
   "id": "e0462e2c",
   "metadata": {},
   "outputs": [],
   "source": []
  }
 ],
 "metadata": {
  "kernelspec": {
   "display_name": "Python 3 (ipykernel)",
   "language": "python",
   "name": "python3"
  },
  "language_info": {
   "codemirror_mode": {
    "name": "ipython",
    "version": 3
   },
   "file_extension": ".py",
   "mimetype": "text/x-python",
   "name": "python",
   "nbconvert_exporter": "python",
   "pygments_lexer": "ipython3",
   "version": "3.9.7"
  }
 },
 "nbformat": 4,
 "nbformat_minor": 5
}
