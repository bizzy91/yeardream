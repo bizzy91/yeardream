{
 "cells": [
  {
   "cell_type": "markdown",
   "id": "6feb203f",
   "metadata": {},
   "source": [
    "### 성적 정리 1\n",
    "\n",
    "엘리스 선생님이 반 아이들의 성적을 처리하는 프로그램을 만들고 있습니다. 먼저, 평균 점수를 구하는 간단한 함수를 하나 작성하려고 합니다.\n",
    "\n",
    "get_average_score() 함수는 채점된 반 아이들의 시험 점수를 매개변수로 받아, 그 평균을 return 하는 함수입니다. 모든 점수 데이터는 XX점과 같은 문자열 형식으로 되어 있습니다.\n",
    "\n",
    "```Python\n",
    "get_average_score(['10점', '20점', '30점'])\n",
    ">>> '20점'\n",
    "```\n",
    "\n",
    "엘리스 선생님이 작성한 코드가 왠지 잘 작동하지 않는 것 같네요. 엘리스 선생님의 코드를 조금 수정해서, 원하는 대로 작동하도록 만들어 주세요.\n",
    "\n",
    "#### 문제 조건\n",
    "* 매개변수로 주어지는 리스트에는 반드시 1명 이상의 점수가 포함되어 있다고 가정합니다.\n",
    "* 매개변수로 주어지는 점수는 모두 정수 형태입니다. 즉, 81.5점 같은 점수는 매개변수로 주어지지 않습니다.\n",
    "\n",
    "---\n",
    "\n",
    "```Python\n",
    "def get_average_score(scores)\n",
    "    sum_scores = 0\n",
    "    for score in scores:\n",
    "        # '점'이라는 글자를 제거합니다.\n",
    "        point = score[:-1]\n",
    "        \n",
    "        sum_scores += point\n",
    "    \n",
    "    average = sum_scroes / len(scores)\n",
    "    return average + '점'\n",
    "```"
   ]
  },
  {
   "cell_type": "code",
   "execution_count": 1,
   "id": "0e1651ce",
   "metadata": {},
   "outputs": [
    {
     "data": {
      "text/plain": [
       "'20.0점'"
      ]
     },
     "execution_count": 1,
     "metadata": {},
     "output_type": "execute_result"
    }
   ],
   "source": [
    "def get_average_score(scores):\n",
    "    sum_scores = 0\n",
    "    for score in scores:\n",
    "        # '점'이라는 글자를 제거합니다.\n",
    "        point = score[:-1]\n",
    "        \n",
    "        sum_scores += int(point)\n",
    "    \n",
    "    average = sum_scores / len(scores)\n",
    "    return str(average) + '점'\n",
    "    \n",
    "get_average_score(['10점', '20점', '30점'])"
   ]
  },
  {
   "cell_type": "markdown",
   "id": "a7f9602d",
   "metadata": {},
   "source": [
    "### 성적 정리 2\n",
    "\n",
    "엘리스 선생님이 여전히 학생들의 성적을 처리하고 있습니다. 엘리스 선생님이 코딩을 잘한다는 이야기를 듣고 다른 선생님들도 성적 처리를 대신 부탁했다고 합니다.\n",
    "\n",
    "다른 선생님들의 채점 결과를 보니 엘리스 선생님과는 조금 다르게, 점수 칸을 빈칸으로 비워 둔 경우가 있었습니다.\n",
    "\n",
    "지난 실습에서 작성한 코드를 수정해서, 다른 선생님들의 채점 결과에도 사용할 수 있도록 만들어 주세요.\n",
    "\n",
    "* 매개변수로 주어지는 리스트에는 XX점 꼴의 점수 데이터, 혹은 빈 문자열 \"\"가 주어질 수 있습니다.\n",
    "* 매개변수로 주어진 리스트에 점수 정보가 하나도 없을 수도 있습니다. 이 경우 None을 return 합니다.\n",
    "* 빈 문자열은 평균의 분자와 분모에 모두 포함되지 않는 데이터입니다. 무시하고 건너뛰면 됩니다.\n",
    "\n",
    "---\n",
    "\n",
    "```Python\n",
    "def get_average_score(scores):\n",
    "    sum_scores = 0\n",
    "    for score in scores:\n",
    "        # '점'이라는 글자를 제거합니다.\n",
    "        point = score[:-1]\n",
    "        \n",
    "        sum_scores += int(point)\n",
    "    \n",
    "    average = sum_scores / len(scores)\n",
    "    return str(average) + '점'\n",
    "\n",
    "\n",
    "print(get_average_score(['20점', '55점', '30점']))\n",
    "print(get_average_score(['', '30점']))\n",
    "print(get_average_score(['', '']))\n",
    "```"
   ]
  },
  {
   "cell_type": "code",
   "execution_count": 2,
   "id": "f0d4b12b",
   "metadata": {},
   "outputs": [
    {
     "name": "stdout",
     "output_type": "stream",
     "text": [
      "35.0점\n",
      "30.0점\n",
      "None\n"
     ]
    }
   ],
   "source": [
    "def get_average_score(scores):\n",
    "    sum_scores = 0\n",
    "    count = 0\n",
    "    for score in scores:\n",
    "        if score != '':\n",
    "            count += 1\n",
    "    if count == 0:\n",
    "        return None\n",
    "    else:\n",
    "        count2 = 0\n",
    "        for score in scores:\n",
    "            if score != '':\n",
    "                # '점'이라는 글자를 제거합니다.\n",
    "                point = score[:-1]\n",
    "\n",
    "                sum_scores += int(point)\n",
    "                count2 += 1\n",
    "\n",
    "        average = sum_scores / count2\n",
    "        return str(average) + '점'\n",
    "\n",
    "\n",
    "print(get_average_score(['20점', '55점', '30점']))\n",
    "print(get_average_score(['', '30점']))\n",
    "print(get_average_score(['', '']))\n"
   ]
  },
  {
   "cell_type": "markdown",
   "id": "6d71a7c1",
   "metadata": {},
   "source": [
    "### 재귀 디버깅\n",
    "\n",
    "이 실습은 심화 내용인 재귀에 대해 다룹니다. 재귀에 대한 깊은 이해가 필요하지는 않지만, 재귀라는 단어를 전혀 들어본 적이 없다면 꼭 강의 동영상을 들은 후에 실습을 진행해 주세요.\n",
    "\n",
    "주어진 코드는 강의 동영상에서 보았던 sum_to() 함수입니다. 이 코드는 한 번 실행하면 절대 종료되지 않는 코드라서, 파이썬이 RecursionError를 일으키며 강제로 프로그램을 종료시킵니다.\n",
    "\n",
    "sum_to() 함수의 문제가 무엇인지 강의 동영상을 들으며 찾아 보고, 수정해서 원하는 값을 얻을 수 있게 만들어 주세요."
   ]
  },
  {
   "cell_type": "code",
   "execution_count": 3,
   "id": "62105fa3",
   "metadata": {},
   "outputs": [
    {
     "name": "stdout",
     "output_type": "stream",
     "text": [
      "55\n"
     ]
    }
   ],
   "source": [
    "# 1부터 n까지 자연수의 합을 구합니다.\n",
    "def sum_to(n):\n",
    "    if n == 1:\n",
    "        return 1\n",
    "    return n + sum_to(n - 1)\n",
    "\n",
    "print(sum_to(10))"
   ]
  },
  {
   "cell_type": "markdown",
   "id": "b47286a6",
   "metadata": {},
   "source": [
    "### 성적 정리 3\n",
    "\n",
    "성적 정리 3 에서는 이번 주 두 번째 실습이었던 성적 정리 2의 코드를 리팩토링* 해보겠습니다.\n",
    "\n",
    "성적 정리 2 코드에서 if 문으로 해결했던 예외 처리를 try와 except를 사용하는 코드로 바꿔 보세요.\n",
    "\n",
    "try와 except를 사용하면, 예외적인 경우가 무엇인지 더 명시적으로 나타낼 수 있습니다. 적절한 경우에 사용하면, 코드를 이해하는 데 도움이 됩니다.\n",
    "\n",
    "*리팩토링: 동일한 동작을 하는 코드를 다른 방식으로 짜는 것"
   ]
  },
  {
   "cell_type": "code",
   "execution_count": 4,
   "id": "bd0b473a",
   "metadata": {},
   "outputs": [
    {
     "name": "stdout",
     "output_type": "stream",
     "text": [
      "35.0점\n",
      "30.0점\n",
      "None\n"
     ]
    }
   ],
   "source": [
    "def get_average_score(scores):\n",
    "    sum_scores = 0\n",
    "    valid_score_count = 0\n",
    "\n",
    "    for score in scores:\n",
    "        # 빈 문자열인 경우 세지 않습니다.\n",
    "        try:\n",
    "            sum_scores += int(score[:-1])\n",
    "            valid_score_count += 1\n",
    "        except ValueError:\n",
    "            pass\n",
    "    try:\n",
    "        average = sum_scores / valid_score_count\n",
    "        return str(average) + '점'\n",
    "    except ZeroDivisionError:\n",
    "        return None\n",
    "    \n",
    "\n",
    "print(get_average_score(['20점', '55점', '30점']))\n",
    "print(get_average_score(['', '30점']))\n",
    "print(get_average_score(['', '']))\n"
   ]
  }
 ],
 "metadata": {
  "kernelspec": {
   "display_name": "Python 3 (ipykernel)",
   "language": "python",
   "name": "python3"
  },
  "language_info": {
   "codemirror_mode": {
    "name": "ipython",
    "version": 3
   },
   "file_extension": ".py",
   "mimetype": "text/x-python",
   "name": "python",
   "nbconvert_exporter": "python",
   "pygments_lexer": "ipython3",
   "version": "3.9.7"
  }
 },
 "nbformat": 4,
 "nbformat_minor": 5
}
