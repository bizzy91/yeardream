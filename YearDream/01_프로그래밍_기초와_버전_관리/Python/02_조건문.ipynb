{
 "cells": [
  {
   "cell_type": "markdown",
   "id": "27f420c9",
   "metadata": {},
   "source": [
    "### 반갑다 주인! 나는 앵무새!\n",
    "\n",
    "지난시간에 print() 로 출력을 배웠다면, 이번 시간에는 입력을 다뤄봅시다.\n",
    "\n",
    "입력은 컴퓨터에게 정보를 전달해주는 것을 의미합니다. 기존에 우리가 코드를 작성하여 컴퓨터에게 '명령'만을 전달했다면, 이제는 이에 '추가정보'를 주어 그 정보를 이용하여 명령을 수행할 수 있습니다.\n",
    "\n",
    "입력과 출력을 이용해서 입력 받은 값을 그대로 출력하는 앵무새 프로그램을 만들어봅시다."
   ]
  },
  {
   "cell_type": "code",
   "execution_count": 1,
   "id": "e9c31caf",
   "metadata": {},
   "outputs": [
    {
     "name": "stdout",
     "output_type": "stream",
     "text": [
      "하하\n",
      "앵무새 : 하하\n",
      "<class 'str'>\n"
     ]
    }
   ],
   "source": [
    "# input()을 이용해서 입력을 넣고, 이를 변수 var에 담아봅시다.\n",
    "var = input()\n",
    "\n",
    "# 앵무새가 말을 따라합니다!\n",
    "print(\"앵무새 :\", var)\n",
    "\n",
    "# 입력한 값이 어떤 자료형인지 확인해봅시다.\n",
    "print(type(var))"
   ]
  },
  {
   "cell_type": "markdown",
   "id": "de856459",
   "metadata": {},
   "source": [
    "### 자료형을 변환해봅시다!\n",
    "\n",
    "input()은 입력받은 값을 문자열(string)으로 인식합니다.\n",
    "\n",
    "하지만 숫자를 입력 받아 일련의 숫자 연산을 해야하는 경우가 많기 때문에, 입력받은 자료를 형변환해줄 필요가 있습니다.\n",
    "\n",
    "변환을 해주기 위해서는\n",
    "\n",
    "```Python\n",
    "int(\"345\")\n",
    "```\n",
    "\n",
    "와 같이 형변환할 문자열 자료인 345를 정수 자료형의 이름으로 감싸주면 됩니다.\n",
    "\n",
    "E 은행의 2배로 적금은 초기 예치금의 정확히 2배만큼 돈을 돌려준다고 합니다. 초기 예치금을 입력으로 줄 때, 혜자 적금으로 받을 수 있는 돈을 출력해봅시다."
   ]
  },
  {
   "cell_type": "code",
   "execution_count": 3,
   "id": "a581e2b6",
   "metadata": {},
   "outputs": [
    {
     "name": "stdout",
     "output_type": "stream",
     "text": [
      "5000\n",
      "10000\n"
     ]
    }
   ],
   "source": [
    "#변수 money에 input을 이용해서 입력을 받아봅시다.\n",
    "money = input()\n",
    "\n",
    "# money를 int형으로 변환해서, 다시 money에 넣어줍시다.\n",
    "money = int(money)\n",
    "\n",
    "# money를 2배 불려서 print로 출력해봅시다.\n",
    "print(money*2)"
   ]
  },
  {
   "cell_type": "markdown",
   "id": "ba1086f1",
   "metadata": {},
   "source": [
    "### 비교 연산자 활용하기\n",
    "\n",
    "비교 연산자는 두 자료를 비교하는 연산자입니다. 비교 연산자를 사용하면, 컴퓨터는 그 값의 결과에 따라 우리에게 True 혹은 False를 반환합니다.\n",
    "\n",
    "예를 들어,\n",
    "\n",
    "```Python\n",
    "3 == 5\n",
    "```\n",
    "\n",
    "라는 비교 연산자가 쓰인 명제가 있을 때, 숫자 3과 숫자 5는 엄연히 다른 수이므로 거짓, 즉 False를 반환하게 됩니다.\n",
    "\n",
    "---\n",
    "\n",
    "변수 3개에 주어진 조건을 만족하는 명제를 넣어봅시다."
   ]
  },
  {
   "cell_type": "code",
   "execution_count": 4,
   "id": "9febe312",
   "metadata": {},
   "outputs": [
    {
     "name": "stdout",
     "output_type": "stream",
     "text": [
      "True False True\n"
     ]
    }
   ],
   "source": [
    "# Q1. == 혹은 != 연산자을 이용해서 True인 명제를 ans1에 넣어봅시다.\n",
    "ans1 = (3==3)\n",
    "\n",
    "# Q2. > 혹은 < 연산자를 이용해서 False인 명제를 ans2에 넣어봅시다.\n",
    "ans2 = (3<1)\n",
    "\n",
    "# Q3. >= 혹은 <= 연산자를 이용해서 True인 명제를 ans3에 넣어봅시다.\n",
    "ans3 = (3<=5)\n",
    "\n",
    "# 위의 세 변수를 출력해서 True, False 여부를 확인해봅시다.\n",
    "print(ans1, ans2, ans3)"
   ]
  },
  {
   "cell_type": "markdown",
   "id": "532d9d3e",
   "metadata": {},
   "source": [
    "### 논리 연산자 활용하기\n",
    "\n",
    "논리 자료형을 연산하는 방법엔 AND, OR, NOT 등이 있습니다.\n",
    "\n",
    "``` Python\n",
    "a = True\n",
    "b = False\n",
    "c = 3>4\n",
    "d = 2==2\n",
    "\n",
    "print(a and c) # False\n",
    "print(b or d) # True\n",
    "print(not a) # False\n",
    "```\n",
    "\n",
    "1. AND - and<br> 모든 논리가 True면 True, 아닐 시 False\n",
    "\n",
    "2. OR - or<br> 논리 중 True가 존재하면 True, 아닐 시 False\n",
    "\n",
    "3. NOT - not<br> 논리를 뒤집는 연산자\n",
    "\n",
    "---\n",
    "\n",
    "실습에서 논리 연산자 사이에 하나의 명제가 빠져있습니다. 원하는 논리(True/False)가 나오도록 빠진 부분을 채워넣어주세요!"
   ]
  },
  {
   "cell_type": "code",
   "execution_count": 5,
   "id": "d5629dc3",
   "metadata": {},
   "outputs": [
    {
     "name": "stdout",
     "output_type": "stream",
     "text": [
      "True False True\n"
     ]
    }
   ],
   "source": [
    "# 괄호 안에 적절한 명제를 채워 stat1이 True가 되게 해봅시다.\n",
    "stat1 = 3==3 and 2<4 and (4==4)\n",
    "\n",
    "# 괄호 안에 적절한 명제를 채워 stat2이 False가 되게 해봅시다.\n",
    "stat2 = 4>=6 or \"apple\"==\"Apple\" or (3>6) \n",
    "\n",
    "# 괄호 안에 적절한 명제를 채워 stat3이 True가 되게 해봅시다.\n",
    "stat3 = not (0)\n",
    "\n",
    "# 위의 세 변수를 한 문장으로 출력해서 True, False 여부를 확인해봅시다.\n",
    "print(stat1, stat2, stat3)"
   ]
  },
  {
   "cell_type": "markdown",
   "id": "90791238",
   "metadata": {},
   "source": [
    "### 만약 ~라면 if, 아니라면 else!\n",
    "\n",
    "조건을 만족해주는 경우의 명령은 if문을 통해 전달해줄 수 있고, 만족하지 못하는 경우에는 else문에 원하는 명령을 적어주면 됩니다.\n",
    "\n",
    "```Python\n",
    "if 조건:\n",
    "    do A\n",
    "else:\n",
    "    do B\n",
    "```\n",
    "\n",
    "다음과 같은 상황일 때, 조건을 만족하면 A를, 그렇지 못하다면 B를 실행합니다. 이때, else는 if문에 해당하지 않는 경우를 의미하므로, 반드시 if문과 함께 쓰여야합니다!\n",
    "\n",
    "---\n",
    "\n",
    "if-else문을 이용해서 어떤 수를 입력했을 때, 이 수가 홀수인지 짝수인지 구분하는 프로그램을 작성해봅시다.\n",
    "\n",
    "어떤 수를 2로 나눈 나머지의 값을 이용해 그 수가 홀수인지 짝수인지 알 수 있습니다.\n",
    "\n",
    "#### 예시 입력\n",
    "```Python\n",
    "3\n",
    "```\n",
    "#### 예시 출력\n",
    "```Python\n",
    "3 홀수입니다.\n",
    "```"
   ]
  },
  {
   "cell_type": "code",
   "execution_count": 7,
   "id": "e57bc735",
   "metadata": {},
   "outputs": [
    {
     "name": "stdout",
     "output_type": "stream",
     "text": [
      "1234\n",
      "1234 짝수입니다.\n"
     ]
    }
   ],
   "source": [
    "# input()을 이용해서 숫자(정수) 입력을 받고, 변수 num에 이를 넣어봅시다.\n",
    "num = int(input())\n",
    "\n",
    "# if-else문을 이용해서 만약 입력받은 수가 홀수면 \"(입력받은 수) 홀수입니다.\"\n",
    "# 짝수면 \"(입력받은 수) 짝수입니다.\"를 출력해봅시다.\n",
    "# 괄호는 출력하지 않습니다.\n",
    "if num%2 == 1:\n",
    "    print(num, '홀수입니다.')\n",
    "\n",
    "else:\n",
    "    print(num, '짝수입니다.')"
   ]
  },
  {
   "cell_type": "markdown",
   "id": "d37157d6",
   "metadata": {},
   "source": [
    "### A는 아니지만 B라면? elif!\n",
    "\n",
    "우린 삶에서 짜장면은 싫지만, 짬뽕은 먹고 싶은 경우가 있습니다. 이러한 경우에는 어떻게 조건문을 세워주면 될까요? 이럴 때는 elif를 사용해주면 됩니다! elif는 else if의 약어로,\n",
    "아닌 것중에 만약~ 의 조건을 세워주는 역할을 합니다.\n",
    "\n",
    "```Python\n",
    "if 조건1:\n",
    "    do A\n",
    "elif 조건2:\n",
    "    do B\n",
    "else:\n",
    "    do C \n",
    "```\n",
    "\n",
    "한 사람이 어떤 수를 생각하고, 다른 사람이 이 수를 예측할때, 생각한 수보다 크면 더 크다, 작으면 더 작다는 정보를 주어 생각한 수를 맞추게 하는 게임을 업-다운 게임이라고 합니다.\n",
    "\n",
    "if-elif-else문을 이용해서 업-다운 게임을 구현해봅시다."
   ]
  },
  {
   "cell_type": "code",
   "execution_count": 8,
   "id": "6ebaba9a",
   "metadata": {},
   "outputs": [
    {
     "name": "stdout",
     "output_type": "stream",
     "text": [
      "1020\n",
      "정답보다 더 큰 수를 입력했습니다.\n"
     ]
    }
   ],
   "source": [
    "# 변수 answer에 수 1~50 중 하나를 넣어봅시다.\n",
    "answer = 25\n",
    "\n",
    "# input을 통해 숫자형으로 입력을 받아서 변수 submit에 저장해봅시다.\n",
    "submit = int(input())\n",
    "\n",
    "# if-elif-else문으로 Up-Down Game을 구현해봅시다.\n",
    "# 만약 answer보다 submit이 더 크면 \"정답보다 더 큰 수를 입력했습니다.\"\n",
    "# 만약 answer보다 submit이 더 작으면 \"정답보다 더 작은 수를 입력했습니다.\"\n",
    "# 만약 answer와 submit이 같으면 \"정답!\" 를 출력합니다.\n",
    "if answer < submit:\n",
    "    print('정답보다 더 큰 수를 입력했습니다.')\n",
    "elif answer > submit:\n",
    "    print('정답보다 더 작은 수를 입력했습니다.')\n",
    "else:\n",
    "    print('정답!')"
   ]
  },
  {
   "cell_type": "markdown",
   "id": "7dabc878",
   "metadata": {},
   "source": [
    "### 한 자리수, 두 자리수, 세 자리수! 구분할 수 있나요?\n",
    "\n",
    "1~999까지의 숫자 중 하나가 입력될 때,\n",
    "\n",
    "* 1자리(1~9)이면 \"한 자리 숫자입니다.\"\n",
    "* 2자리(10~99)이면 \"두 자리 숫자입니다.\"\n",
    "* 3자리(100~999)이면 \"세 자리 숫자입니다.\"<br>를 출력해봅시다.\n",
    "\n",
    "#### 예시 입력\n",
    "```Python\n",
    "3\n",
    "```\n",
    "#### 예시 출력\n",
    "```Python\n",
    "한 자리 숫자입니다.\n",
    "```"
   ]
  },
  {
   "cell_type": "code",
   "execution_count": 9,
   "id": "bfa29298",
   "metadata": {},
   "outputs": [
    {
     "name": "stdout",
     "output_type": "stream",
     "text": [
      "1234\n",
      "세 자리 숫자입니다.\n"
     ]
    }
   ],
   "source": [
    "# 변수 num을 선언하고, 숫자형으로 입력을 받습니다.\n",
    "num = int(input())\n",
    "\n",
    "# if-elif-else문을 이용해서 조건에 따라 출력합니다.\n",
    "# 왼쪽에 있는 조건에 따라 자리수를 출력해봅시다.\n",
    "\n",
    "if num in range(1,10):\n",
    "    print(\"한 자리 숫자입니다.\")\n",
    "elif num in range(10, 100):\n",
    "    print(\"두 자리 숫자입니다.\")\n",
    "else:\n",
    "    print(\"세 자리 숫자입니다.\")"
   ]
  },
  {
   "cell_type": "markdown",
   "id": "93ef60ea",
   "metadata": {},
   "source": [
    "### 하늘에서 A+가 빗발칩니다!\n",
    "\n",
    "코더랜드에 있는 E대학의 J교수님은 학점을 잘 주시는 것으로 유명합니다.\n",
    "\n",
    "이 교수님은 시험 점수가 77점 이상이면 학생에게 A0(숫자 0)를 주시고, 88점 이상이면 A+를 부여합니다.\n",
    "\n",
    "단, 이 교수님은 성의가 없는 학생을 싫어하셔서 시험 점수가 0점인 학생에게 가차없이 F를 부여합니다. 위 경우에 모두 해당하지 않는 학생들에게는 전부 B+를 부여합니다.\n",
    "\n",
    "어떤 학생의 시험 점수가 입력되면 이 학생의 학점을 출력하는 프로그램을 작성해봅시다.\n",
    "\n",
    "#### 예시 입력 1\n",
    "```Python\n",
    "88\n",
    "```\n",
    "#### 예시 출력 1\n",
    "```Python\n",
    "A+\n",
    "```"
   ]
  },
  {
   "cell_type": "code",
   "execution_count": 10,
   "id": "5d980bb6",
   "metadata": {},
   "outputs": [
    {
     "name": "stdout",
     "output_type": "stream",
     "text": [
      "70\n",
      "B+\n"
     ]
    }
   ],
   "source": [
    "#주어진 미션을 수행해볼까요?\n",
    "score = int(input())\n",
    "\n",
    "if score >= 88:\n",
    "    print('A+')\n",
    "elif score >= 77:\n",
    "    print('A0')\n",
    "elif score == 0:\n",
    "    print('F')\n",
    "else:\n",
    "    print('B+')"
   ]
  }
 ],
 "metadata": {
  "kernelspec": {
   "display_name": "Python 3 (ipykernel)",
   "language": "python",
   "name": "python3"
  },
  "language_info": {
   "codemirror_mode": {
    "name": "ipython",
    "version": 3
   },
   "file_extension": ".py",
   "mimetype": "text/x-python",
   "name": "python",
   "nbconvert_exporter": "python",
   "pygments_lexer": "ipython3",
   "version": "3.9.7"
  }
 },
 "nbformat": 4,
 "nbformat_minor": 5
}
