{
 "cells": [
  {
   "cell_type": "markdown",
   "id": "a80328be",
   "metadata": {},
   "source": [
    "### 최댓값/최솟값 쉽게 구하기\n",
    "\n",
    "시퀀스 안의 원소 중, 최댓값과 최솟값을 구하는 함수는 다음과 같습니다.\n",
    "\n",
    "* 최댓값 : max(시퀀스)\n",
    "* 최솟값 : min(시퀀스)\n",
    "\n",
    "단, 시퀀스 안의 원소가 모두 숫자형 자료여야 합니다!\n",
    "\n",
    "```Python\n",
    "my_list = [10, 20, 30, 40, 50]\n",
    "\n",
    "print(max(my_list)) #50\n",
    "print(min(my_list)) #10\n",
    "```\n",
    "\n",
    "실습을 따라해보면서 최댓값과 최솟값을 쉽게 구하는 방법을 익혀봅시다."
   ]
  },
  {
   "cell_type": "code",
   "execution_count": 2,
   "id": "f7ea7173",
   "metadata": {},
   "outputs": [
    {
     "name": "stdout",
     "output_type": "stream",
     "text": [
      "5\n",
      "1\n"
     ]
    }
   ],
   "source": [
    "my_tuple = [1,2,3,4,5]\n",
    "\n",
    "var1 = max(my_tuple)\n",
    "print(var1)\n",
    "var2 = min(my_tuple)\n",
    "print(var2)"
   ]
  },
  {
   "cell_type": "markdown",
   "id": "00a10573",
   "metadata": {},
   "source": [
    "### 합/길이 쉽게 구하기\n",
    "\n",
    "시퀀스의 합과 길이를 구하는 함수는 다음과 같습니다.\n",
    "\n",
    "* 원소들의 합 : sum()\n",
    "* 시퀀스의 길이 : len()\n",
    "\n",
    "단, sum()을 사용할 때는 시퀀스 안의 원소가 모두 숫자형 자료여야합니다!\n",
    "\n",
    "```Python\n",
    "my_tuple = (3, 1, 2, 4)\n",
    "\n",
    "print(sum(my_tuple))\n",
    "print(len(my_tuple))\n",
    "```\n",
    "\n",
    "실습을 따라해보면서 시퀀스의 합과 길이를 쉽게 구하는 방법을 익혀봅시다."
   ]
  },
  {
   "cell_type": "code",
   "execution_count": 4,
   "id": "85bc7109",
   "metadata": {},
   "outputs": [
    {
     "name": "stdout",
     "output_type": "stream",
     "text": [
      "[1, 2, 3, 4, 5]\n",
      "15\n",
      "5\n",
      "3.0\n"
     ]
    }
   ],
   "source": [
    "my_list = [1,2,3,4,5]\n",
    "print(my_list)\n",
    "var1 = sum(my_list)\n",
    "print(var1)\n",
    "var2 = len(my_list)\n",
    "print(var2)\n",
    "var3 = var1/var2\n",
    "print(var3)"
   ]
  },
  {
   "cell_type": "markdown",
   "id": "11f61efc",
   "metadata": {},
   "source": [
    "### 명령이 끝난 후엔 반환! return\n",
    "\n",
    "함수는 함수 내부에서 연산한 결과를 함수 밖으로 전달할 수 있습니다. 이를 return(반환)이라고 합니다.\n",
    "\n",
    "```Python\n",
    "def plus(a, b):\n",
    "    return a+b #a+b를 반환!\n",
    "        \n",
    "var1 = plus(3, 4) #반환값 7을 var1에 대입\n",
    "```\n",
    "\n",
    "실습을 따라해보면서 함수의 return을 익혀봅시다."
   ]
  },
  {
   "cell_type": "code",
   "execution_count": 5,
   "id": "1f243adc",
   "metadata": {},
   "outputs": [
    {
     "name": "stdout",
     "output_type": "stream",
     "text": [
      "7\n",
      "12\n"
     ]
    }
   ],
   "source": [
    "def plus_print(a, b):\n",
    "    print(a+b)\n",
    "\n",
    "def times_return(a, b):\n",
    "    return a*b\n",
    "\n",
    "plus_print(3, 4)\n",
    "print(times_return(3, 4))"
   ]
  },
  {
   "cell_type": "markdown",
   "id": "ec2cd4a2",
   "metadata": {},
   "source": [
    "### 같은 의미라도 지역에 따라 다르게 부르죠!\n",
    "\n",
    "변수는 어디에서 선언되었는지에 따라 크게 지역변수와 전역변수로 나뉩니다.\n",
    "\n",
    "* 지역 변수는 함수 내부에서 선언된 변수로, 함수가 종료되면 소멸합니다. 따라서 함수 외부에서 지역 변수를 참조할 수 없습니다.\n",
    "\n",
    "* 전역 변수는 함수 외부에서 선언된 변수로, 어디서든지 사용이 가능합니다.\n",
    "\n",
    "---\n",
    "\n",
    "“밥 먹었어요?” 라는 문장을 부산에서는 “밥 뭇나?” 라는 말로 통용된다고 합니다. 오른쪽 실습을 통해서 지역 변수와 전역 변수의 개념을 사투리와 함께 이해해 봅시다."
   ]
  },
  {
   "cell_type": "code",
   "execution_count": 6,
   "id": "f7f50a2e",
   "metadata": {},
   "outputs": [
    {
     "name": "stdout",
     "output_type": "stream",
     "text": [
      "서울 : 밥 먹었어요?\n",
      "부산 : 밥 뭇나?\n",
      "밥 먹었어요?\n"
     ]
    }
   ],
   "source": [
    "# 다음은 표준어로 \"밥 먹었어요?\"가 담긴 변수 greeting입니다.\n",
    "greeting = \"밥 먹었어요?\"\n",
    "\n",
    "# 이를 print로 출력하면 다음과 같습니다.\n",
    "print(\"서울 :\",greeting)\n",
    "\n",
    "# 함수 busan을 선언하고, 그 안에 변수 greeting에 \"밥 뭇나?\"를 넣어봅시다.\n",
    "def busan():\n",
    "    greeting = \"밥 뭇나?\"\n",
    "    print(\"부산 :\",greeting)\n",
    "# 함수 busan을 실행해보세요.\n",
    "busan()\n",
    "\n",
    "# 변수 greeting을 출력해보세요.\n",
    "print(greeting)"
   ]
  },
  {
   "cell_type": "markdown",
   "id": "a2afd59b",
   "metadata": {},
   "source": [
    "### 친구가 있는 함수? 메서드!\n",
    "\n",
    "함수 중에서 특정 자료와 함께 사용되는 함수가 있습니다. 우리는 그것을 메서드라고 부릅니다.\n",
    "\n",
    "* 메서드 : 자료.메서드이름()\n",
    "\n",
    "```Python    \n",
    "my_list = [5, 4, 3, 2, 1]\n",
    "\n",
    "my_list.append(5) # 원소를 추가하는 메서드\n",
    "my_list.sort() # 정렬하는 메서드\n",
    "```\n",
    "\n",
    "실습을 따라해보면서 메서드가 무엇인지, 어떻게 사용하는지 익혀봅시다."
   ]
  },
  {
   "cell_type": "code",
   "execution_count": 8,
   "id": "322ef0e4",
   "metadata": {},
   "outputs": [
    {
     "name": "stdout",
     "output_type": "stream",
     "text": [
      "{1: 1, 2: 2, 3: 3}\n",
      "dict_keys([1, 2, 3])\n",
      "dict_values([1, 2, 3])\n"
     ]
    }
   ],
   "source": [
    "my_dict = {\n",
    "    1 : 1,\n",
    "    2 : 2,\n",
    "    3 : 3,\n",
    "}\n",
    "print(my_dict)\n",
    "var1 = my_dict.keys()\n",
    "print(var1)\n",
    "var2 = my_dict.values()\n",
    "print(var2)"
   ]
  },
  {
   "cell_type": "markdown",
   "id": "d4f4db95",
   "metadata": {},
   "source": [
    "### 인자와 매개변수, 닮은 듯 다르다!\n",
    "\n",
    "함수를 공부하다보면 인자와 매개변수에 대한 이야기가 나옵니다. 이 둘은 비슷해 보이지만, 다른 뜻입니다.\n",
    "\n",
    "* 매개변수(parameter) : 함수를 정의할 때(만들 때) 넘겨받은 값을 관리하는 변수\n",
    "* 인자(argument) : 함수를 호출할 때(사용할 때) 함수로 넘겨주는 자료\n",
    "\n",
    "```Python    \n",
    "def plusDouble(a, b): # 이때 a, b는 매개변수!\n",
    "    return 2 * (a + b)\n",
    "\n",
    "print(plusDouble(3, 4)) # 이때 3, 4는 인자!\n",
    "# 함수 호출시\n",
    "# a = 3\n",
    "# b = 4\n",
    "# 로 간주\n",
    "```\n",
    "\n",
    "실습을 따라해보면서 인자와 매개변수의 차이점을 학습해봅시다."
   ]
  },
  {
   "cell_type": "code",
   "execution_count": 10,
   "id": "dfe45915",
   "metadata": {},
   "outputs": [
    {
     "name": "stdout",
     "output_type": "stream",
     "text": [
      "12\n",
      "['Cham', 'Cham', 'Cham']\n"
     ]
    }
   ],
   "source": [
    "def solve(a, b):\n",
    "    return a * b\n",
    "\n",
    "var1 = solve(3, 4)\n",
    "print(var1)\n",
    "var2 = solve(3, ['Cham'])\n",
    "print(var2)"
   ]
  },
  {
   "cell_type": "markdown",
   "id": "58407130",
   "metadata": {},
   "source": [
    "### 내장 함수를 사용할 수 없다면? 직접 함수를 만들어봐요!\n",
    "\n",
    "이전 실습에서는 max()를 이용해서 최댓값을 구했었는데요, 이번 실습에서는 직접 최댓값을 구하는 함수 our_max() 함수를 구현해봅시다!"
   ]
  },
  {
   "cell_type": "code",
   "execution_count": 12,
   "id": "3ab4845c",
   "metadata": {},
   "outputs": [
    {
     "name": "stdout",
     "output_type": "stream",
     "text": [
      "99\n"
     ]
    }
   ],
   "source": [
    "# 리스트 nums를 넣었을 때, 최댓값을 반환(return)하는 함수 our_max를 작성해봅시다.\n",
    "\n",
    "def our_max(nums):\n",
    "    max_num = 0\n",
    "    for i in nums:\n",
    "        if i > max_num:\n",
    "            max_num = i\n",
    "    return max_num\n",
    "\n",
    "print(our_max([1, 2, 10, 9, 3, 7, 0, 99, 27, 85]))"
   ]
  },
  {
   "cell_type": "markdown",
   "id": "c136d092",
   "metadata": {},
   "source": [
    "### 환상의 나라로!\n",
    "\n",
    "유진이는 국내 최고의 도시 용인에 있는 네버랜드에 도착했습니다. 네버랜드에는 정말 많은 놀이기구가 있어서 유진이는 특별한 순서로 놀이기구를 타기로 결정했습니다.\n",
    "\n",
    "각 놀이기구의 대기시간이 담긴 리스트가 인자로 주어졌을 때, 유진이가 놀이기구를 타는 순서로 대기시간을 정렬한 함수 neverland()를 만들어봅시다."
   ]
  },
  {
   "cell_type": "code",
   "execution_count": 13,
   "id": "d68b8996",
   "metadata": {},
   "outputs": [
    {
     "name": "stdout",
     "output_type": "stream",
     "text": [
      "[20, 10, 30, 40, 50, 60]\n"
     ]
    }
   ],
   "source": [
    "# 대기시간이 담긴 리스트가 인자로 주어지면 조건을 만족하도록\n",
    "# 타야하는 대기시간의 순서가 담긴 리스트를 반환하는 함수 neverland()를 작성해봅시다.\n",
    "def neverland(queue):\n",
    "    order = []\n",
    "    first = queue.pop(2)\n",
    "    order.append(first)\n",
    "    queue.sort()\n",
    "\n",
    "    return order + queue\n",
    "\n",
    "# 확인을 위한 코드입니다.\n",
    "# 대기시간이 담긴 리스트 queue를 자유롭게 수정해보세요!\n",
    "queue = [30, 10, 20, 50, 40, 60]\n",
    "print(neverland(queue))"
   ]
  },
  {
   "cell_type": "markdown",
   "id": "c77712ff",
   "metadata": {},
   "source": [
    "### 하고싶은 대로만 한다면 다 된다고 믿어!\n",
    "\n",
    "엘리스 홈페이지의 비밀번호를 어떻게 설정할지 고민이 많던 건웅은 듣고 있던 노래 윤하 - 비밀번호 486에서 영감을 받아 다음과 같이 비밀번호를 만들기로 했습니다.\n",
    "\n",
    "4, 6, 8로 이루어진 숫자\n",
    "\n",
    "|숫자\t|문자열|\n",
    "|-|-|\n",
    "|4\t|love|\n",
    "|8\t|smile|\n",
    "|6\t|kiss|\n",
    "\n",
    "예를 들어 다음과 같은 숫자가 입력으로 주어지면\n",
    "\n",
    "```Python\n",
    "48686\n",
    "```\n",
    "\n",
    "다음과 같은 문자열 비밀번호를 반환합니다.\n",
    "\n",
    "```Python\n",
    "lovesmilekisssmilekiss\n",
    "```"
   ]
  },
  {
   "cell_type": "code",
   "execution_count": 16,
   "id": "3a0512bb",
   "metadata": {},
   "outputs": [
    {
     "name": "stdout",
     "output_type": "stream",
     "text": [
      "444\n",
      "lovelovelove\n"
     ]
    }
   ],
   "source": [
    "# 비밀번호를 만들어주는 함수 yoonHa()를 만들어봅시다.\n",
    "def yoonHa(nums):\n",
    "    trans = {\n",
    "        '4': 'love',\n",
    "        '8': 'smile',\n",
    "        '6': 'kiss',\n",
    "    }\n",
    "    char = ''\n",
    "    for i in str(nums):\n",
    "        char += trans[i]\n",
    "    return char\n",
    "\n",
    "# 채점을 위한 코드입니다. 이를 수정하지 마세요!\n",
    "nums = input()\n",
    "print(yoonHa(nums))"
   ]
  }
 ],
 "metadata": {
  "kernelspec": {
   "display_name": "Python 3 (ipykernel)",
   "language": "python",
   "name": "python3"
  },
  "language_info": {
   "codemirror_mode": {
    "name": "ipython",
    "version": 3
   },
   "file_extension": ".py",
   "mimetype": "text/x-python",
   "name": "python",
   "nbconvert_exporter": "python",
   "pygments_lexer": "ipython3",
   "version": "3.9.7"
  }
 },
 "nbformat": 4,
 "nbformat_minor": 5
}
