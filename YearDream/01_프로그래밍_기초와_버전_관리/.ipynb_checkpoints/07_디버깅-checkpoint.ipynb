{
 "cells": [
  {
   "cell_type": "markdown",
   "id": "5bec58f0",
   "metadata": {},
   "source": [
    "### 문자열 덧셈\n",
    "\n",
    "“엥? 왜 오류가 나는거지?”\n",
    "\n",
    "연구실에서 근무하는 박00씨는 실험 결과값을 파일로 정리하는 도중에 오류와 마주쳤습니다.\n",
    "\n",
    "실험 결과값 파일명을 각각\n",
    "\n",
    ">결과1.txt, 결과2.txt, 결과3.txt …\n",
    "으로 정리하려고 하는 도중에 오류가 발생한 듯 합니다.\n",
    "\n",
    "박00씨를 도와 문제를 해결해봅시다.\n",
    "\n",
    "---\n",
    "\n",
    "실험 데이터 출력 파일의 양을 나타내는 양의 정수인 nnn이 입력됩니다.\n",
    "\n",
    "다음 n줄에 걸쳐 각각 올바르게 파일명을 출력하세요.\n",
    "\n",
    "#### 입력\n",
    "\n",
    "```Python\n",
    "5\n",
    "```\n",
    "\n",
    "#### 출력\n",
    "\n",
    "```Python\n",
    "결과1.txt\n",
    "결과2.txt\n",
    "결과3.txt\n",
    "결과4.txt\n",
    "결과5.txt\n",
    "```"
   ]
  },
  {
   "cell_type": "code",
   "execution_count": 2,
   "id": "122a2065",
   "metadata": {},
   "outputs": [
    {
     "name": "stdout",
     "output_type": "stream",
     "text": [
      "5\n",
      "결과1.txt\n",
      "결과2.txt\n",
      "결과3.txt\n",
      "결과4.txt\n",
      "결과5.txt\n"
     ]
    }
   ],
   "source": [
    "n = int(input())\n",
    "result = []\n",
    "\n",
    "for i in range(1, n+1) :\n",
    "    result.append(\"결과\" + str(i) + \".txt\");\n",
    "\n",
    "for r in result :\n",
    "    print(r)"
   ]
  },
  {
   "cell_type": "markdown",
   "id": "27e2d19a",
   "metadata": {},
   "source": [
    "### 계산기 디버깅 준비하기 1\n",
    "\n",
    "우리가 흔히 사용하는 계산기를 직접 구현합니다.\n",
    "\n",
    "본격적인 실습에 앞서서, 이번 주 프로젝트를 진행하는데 사용되는 클래스 개념을 잠시 짚고 넘어가겠습니다.\n",
    "\n",
    "우리는 Calculator 라는 클래스로 계산기를 표현하고, 계산기의 여러 버튼들을 클래스의 메소드(클래스 안의 함수)로 표현합니다.\n",
    "\n",
    "예를 들어, clear() 함수는, 계산기의 클리어(C 혹은 AC) 버튼을 눌렀을 때의 내부 동작을 나타냅니다.\n",
    "\n",
    "#### 메소드 작성법\n",
    "\n",
    "함수의 모든 메소드는 self를 첫 번째 매개변수로 갖습니다. 이 값은 실제로 메소드를 호출할 때에는 넣어주지 않는 인자입니다.\n",
    "\n",
    "예를 들면, 6번째 줄의 clear 선언에는 self라는 매개변수 1개가 존재하지만, 4번째 줄에서 clear를 호출할 때에는 인자를 넣어주지 않습니다. self는 자기 자신의 속성(클래스가 고유하게 갖는 변수)에 접근하거나 메소드를 호출할 때 사용합니다.\n",
    "\n",
    "#### 이 실습에서 구현할 것\n",
    "\n",
    "이 실습에서는 계산기의 숫자 버튼(0부터 9까지 중 하나)을 눌렀을 때의 동작을 나타내는 press_digit() 함수를 구현합니다.\n",
    "\n",
    "이 함수는 다음과 같은 조건을 만족해야 합니다.\n",
    "\n",
    "* 한 자리 숫자 1개를 매개변수로 받습니다.\n",
    "* 현재 화면에 표시된 수(current_number)가 0이라면, 입력한 숫자를 화면에 표시합니다.\n",
    "* 현재 화면에 표시된 수가 0이 아니라면, 입력한 숫자를 일의 자리에 이어 붙입니다. 예를 들어, 12가 표시되어 있는 상태에서 8을 입력하면 128을 표시합니다.\n",
    "* 가장 최근에 입력한 버튼 정보(last_input)를 해당 숫자로 바꿉니다.\n",
    "\n",
    "잘 이해가 되지 않는다면, 3, +, 5, =을 순서대로 누르는 상황을 생각해 보세요. 마지막 = 버튼을 누르는 시점에 메모리에는 3이, 화면에는 5가, 최근 연산자에는 ‘+’가 저장되어 있습니다. 그 결과 8이 화면에 표시됩니다.\n",
    "\n",
    "스켈레톤 코드의 clear() 메소드를 참고해서, press_digit() 메소드를 직접 작성해 보세요."
   ]
  },
  {
   "cell_type": "code",
   "execution_count": 20,
   "id": "638785d1",
   "metadata": {},
   "outputs": [
    {
     "name": "stdout",
     "output_type": "stream",
     "text": [
      "초기 정보------------------------------\n",
      "\n",
      "None\n",
      "None\n",
      "None\n",
      "입력 후------------------------------\n",
      "9\n",
      "9\n"
     ]
    }
   ],
   "source": [
    "class Calculator:\n",
    "\n",
    "    def __init__(self):\n",
    "        self.clear()\n",
    "        self.digit = ''\n",
    "    \n",
    "    def clear(self):\n",
    "        # 현재 화면에 표시되는 숫자를 0으로 바꿉니다.\n",
    "        self.current_number = 0\n",
    "        self.digit = ''\n",
    "        # 가장 최근에 입력한 연산자 정보를 삭제합니다.\n",
    "        self.current_operator = None\n",
    "        \n",
    "        # 메모리에 저장된 숫자 정보를 삭제합니다.\n",
    "        self.memory = None\n",
    "        \n",
    "        # 가장 최근에 입력한 버튼 정보를 삭제합니다.\n",
    "        self.last_input = None\n",
    "    \n",
    "    # 아래에 press_digit 메소드를 작성합니다.\n",
    "    def press_digit(self, n):\n",
    "        self.last_input = n\n",
    "        if self.current_number == 0:\n",
    "            self.memory = self.last_input\n",
    "        else:\n",
    "            self.memory = int(str(self.memory) + str(self.last_input))\n",
    "        self.current_number = self.memory\n",
    "\n",
    "print('초기 정보------------------------------')\n",
    "C = Calculator()\n",
    "print(C.digit)\n",
    "print(C.current_operator)\n",
    "print(C.memory)\n",
    "print(C.last_input)\n",
    "\n",
    "print('입력 후------------------------------')\n",
    "C.press_digit(9)\n",
    "print(C.memory)\n",
    "print(C.last_input)\n"
   ]
  }
 ],
 "metadata": {
  "kernelspec": {
   "display_name": "Python 3 (ipykernel)",
   "language": "python",
   "name": "python3"
  },
  "language_info": {
   "codemirror_mode": {
    "name": "ipython",
    "version": 3
   },
   "file_extension": ".py",
   "mimetype": "text/x-python",
   "name": "python",
   "nbconvert_exporter": "python",
   "pygments_lexer": "ipython3",
   "version": "3.9.7"
  }
 },
 "nbformat": 4,
 "nbformat_minor": 5
}
