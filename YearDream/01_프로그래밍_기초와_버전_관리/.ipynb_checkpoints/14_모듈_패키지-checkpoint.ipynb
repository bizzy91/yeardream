{
 "cells": [
  {
   "cell_type": "markdown",
   "id": "c784a7c1",
   "metadata": {},
   "source": [
    "## matplotlib 기초\n",
    "\n",
    "matplotlib은 Python의 가장 기초적이지만 강력한 그래프 모듈입니다. matplotlib을 이용하면 단 몇 줄의 Python 코드만으로도 대부분의 그래프를 쉽게 그려낼 수 있습니다.\n",
    "\n",
    "실습 1에서는 matplotlib을 이용해 막대그래프를 그려 보겠습니다. 채점되지 않는 실습이니 가벼운 마음으로 시작합시다.\n",
    "\n",
    "### 날짜별 기온 그래프 그리기\n",
    "\n",
    "이번 실습에서는 2018년 7월 1일부터 31일까지의 서울시의 일별 최고기온을 막대 그래프로 그려보겠습니다.\n",
    "\n",
    "먼저, 각 막대의 위치를 결정할 x축 리스트를 생성해야 합니다. 막대의 위치는 0부터 1씩 증가하는 정수로 선언됩니다. 즉, 10개의 막대를 빈 칸 없이 그리고 싶다면 0부터 9까지의 리스트를 생성하면 됩니다. 코드의 x 값에 우리의 데이터에 맞는 적절한 길이의 리스트를 넣어 주세요.\n",
    "\n",
    "이제는 막대의 높이를 설정할 기온 데이터가 필요합니다. 이 값은 코드에 미리 작성되어 있습니다.\n",
    "\n",
    "데이터가 모두 준비되었으니, 막대 그래프를 그려 보겠습니다.\n",
    "\n",
    "plt.bar() 함수를 이용하면 막대 그래프를 그릴 수 있습니다. x와 temperatures를 함수의 인자로 순서대로 넣고, 코드를 실행해 보세요."
   ]
  },
  {
   "cell_type": "code",
   "execution_count": 1,
   "id": "5d327909",
   "metadata": {},
   "outputs": [
    {
     "data": {
      "text/plain": [
       "<BarContainer object of 31 artists>"
      ]
     },
     "execution_count": 1,
     "metadata": {},
     "output_type": "execute_result"
    },
    {
     "data": {
      "image/png": "[encoded data removed]",
      "text/plain": [
       "<Figure size 432x288 with 1 Axes>"
      ]
     },
     "metadata": {
      "needs_background": "light"
     },
     "output_type": "display_data"
    }
   ],
   "source": [
    "import matplotlib.pyplot as plt\n",
    "\n",
    "\n",
    "# 각 막대의 위치를 결정할 리스트를 생성합니다.\n",
    "x = range(31)\n",
    "\n",
    "# 각 일 별 최고기온입니다.\n",
    "temperatures = [\n",
    "    22.8, 25.3, 32.6, 31.8, 29.0, 27.1, 29.2,\n",
    "    28.1, 24.2, 26.5, 29.5, 28.2, 30.9, 31.9,\n",
    "    33.2, 34.0, 32.1, 33.2, 34.1, 34.7, 36.9,\n",
    "    38.0, 35.7, 36.8, 34.1, 33.7, 35.4, 35.2,\n",
    "    36.7, 36.9, 38.3\n",
    "]\n",
    "\n",
    "# 막대 그래프를 그립니다.\n",
    "plt.bar(x, temperatures)\n"
   ]
  },
  {
   "cell_type": "markdown",
   "id": "21773633",
   "metadata": {},
   "source": [
    "## matplotlib에서 한글 표시하기\n",
    "\n",
    "matplotlib은 기본적으로 로마자 사용 환경에 최적화되어 있습니다. matplotlib의 기본 폰트가 한글을 지원하지 않기 때문에, 차트의 제목, 축, 범주 등에 한글 텍스트를 넣으려면 한글을 지원하는 폰트로 교체해야 합니다.\n",
    "\n",
    "이 실습에서는 matplotlib 폰트 매니저를 통해 폰트를 설정하는 방법을 배워 보겠습니다.\n",
    "\n",
    "미리 작성된 코드를 따라 가며 사용 방법을 익혀 보세요.\n",
    "\n",
    "1. matplotlib.font_manager를 import 합니다.\n",
    "2. font_manager 모듈 내에는 FontProperties 클래스가 정의되어 있습니다. 생성자에 폰트의 이름을 넣고 인스턴스를 생성합니다.\n",
    "3. 텍스트를 추가할 때마다 fontproperties 매개변수에 생성한 FontProperties의 인스턴스를 인자로 넣어 줍니다."
   ]
  },
  {
   "cell_type": "code",
   "execution_count": 5,
   "id": "f6e875d8",
   "metadata": {},
   "outputs": [
    {
     "data": {
      "text/plain": [
       "([<matplotlib.axis.XTick at 0x7fc52aa63e50>,\n",
       "  <matplotlib.axis.XTick at 0x7fc52aa63e20>,\n",
       "  <matplotlib.axis.XTick at 0x7fc52a8f8b50>,\n",
       "  <matplotlib.axis.XTick at 0x7fc52ab6c730>,\n",
       "  <matplotlib.axis.XTick at 0x7fc52ab6cbb0>,\n",
       "  <matplotlib.axis.XTick at 0x7fc52ab74340>,\n",
       "  <matplotlib.axis.XTick at 0x7fc52ab74a00>,\n",
       "  <matplotlib.axis.XTick at 0x7fc52ab7b250>,\n",
       "  <matplotlib.axis.XTick at 0x7fc52ab7b9a0>,\n",
       "  <matplotlib.axis.XTick at 0x7fc52ab7e130>,\n",
       "  <matplotlib.axis.XTick at 0x7fc52ab7b640>,\n",
       "  <matplotlib.axis.XTick at 0x7fc52ab74280>,\n",
       "  <matplotlib.axis.XTick at 0x7fc52ab7e760>,\n",
       "  <matplotlib.axis.XTick at 0x7fc52ab7eeb0>,\n",
       "  <matplotlib.axis.XTick at 0x7fc52ab88640>,\n",
       "  <matplotlib.axis.XTick at 0x7fc52ab88d90>,\n",
       "  <matplotlib.axis.XTick at 0x7fc52ab8f520>,\n",
       "  <matplotlib.axis.XTick at 0x7fc52ab885e0>,\n",
       "  <matplotlib.axis.XTick at 0x7fc52ab743a0>,\n",
       "  <matplotlib.axis.XTick at 0x7fc52ab8f910>,\n",
       "  <matplotlib.axis.XTick at 0x7fc52ab96160>,\n",
       "  <matplotlib.axis.XTick at 0x7fc52ab967f0>,\n",
       "  <matplotlib.axis.XTick at 0x7fc52ab96f40>,\n",
       "  <matplotlib.axis.XTick at 0x7fc52ab96f10>,\n",
       "  <matplotlib.axis.XTick at 0x7fc52ab8fc40>,\n",
       "  <matplotlib.axis.XTick at 0x7fc52ab884f0>,\n",
       "  <matplotlib.axis.XTick at 0x7fc52ab9cbe0>,\n",
       "  <matplotlib.axis.XTick at 0x7fc52aba5370>,\n",
       "  <matplotlib.axis.XTick at 0x7fc52aba5ac0>,\n",
       "  <matplotlib.axis.XTick at 0x7fc52abaa250>,\n",
       "  <matplotlib.axis.XTick at 0x7fc52aba5b20>],\n",
       " [Text(0, 0, '7월 0일'),\n",
       "  Text(1, 0, '7월 1일'),\n",
       "  Text(2, 0, '7월 2일'),\n",
       "  Text(3, 0, '7월 3일'),\n",
       "  Text(4, 0, '7월 4일'),\n",
       "  Text(5, 0, '7월 5일'),\n",
       "  Text(6, 0, '7월 6일'),\n",
       "  Text(7, 0, '7월 7일'),\n",
       "  Text(8, 0, '7월 8일'),\n",
       "  Text(9, 0, '7월 9일'),\n",
       "  Text(10, 0, '7월 10일'),\n",
       "  Text(11, 0, '7월 11일'),\n",
       "  Text(12, 0, '7월 12일'),\n",
       "  Text(13, 0, '7월 13일'),\n",
       "  Text(14, 0, '7월 14일'),\n",
       "  Text(15, 0, '7월 15일'),\n",
       "  Text(16, 0, '7월 16일'),\n",
       "  Text(17, 0, '7월 17일'),\n",
       "  Text(18, 0, '7월 18일'),\n",
       "  Text(19, 0, '7월 19일'),\n",
       "  Text(20, 0, '7월 20일'),\n",
       "  Text(21, 0, '7월 21일'),\n",
       "  Text(22, 0, '7월 22일'),\n",
       "  Text(23, 0, '7월 23일'),\n",
       "  Text(24, 0, '7월 24일'),\n",
       "  Text(25, 0, '7월 25일'),\n",
       "  Text(26, 0, '7월 26일'),\n",
       "  Text(27, 0, '7월 27일'),\n",
       "  Text(28, 0, '7월 28일'),\n",
       "  Text(29, 0, '7월 29일'),\n",
       "  Text(30, 0, '7월 30일')])"
      ]
     },
     "execution_count": 5,
     "metadata": {},
     "output_type": "execute_result"
    },
    {
     "data": {
      "image/png": "[encoded data removed]",
      "text/plain": [
       "<Figure size 432x288 with 1 Axes>"
      ]
     },
     "metadata": {
      "needs_background": "light"
     },
     "output_type": "display_data"
    }
   ],
   "source": [
    "import matplotlib.pyplot as plt\n",
    "import matplotlib.font_manager as fm\n",
    "from matplotlib import rc\n",
    "\n",
    "\n",
    "font = fm.FontProperties(fname='./NanumBarunGothic.ttf')\n",
    "\n",
    "x = range(31)\n",
    "temperatures = [\n",
    "    22.8, 25.3, 32.6, 31.8, 29.0, 27.1, 29.2,\n",
    "    28.1, 24.2, 26.5, 29.5, 28.2, 30.9, 31.9,\n",
    "    33.2, 34.0, 32.1, 33.2, 34.1, 34.7, 36.9,\n",
    "    38.0, 35.7, 36.8, 34.1, 33.7, 35.4, 35.2,\n",
    "    36.7, 36.9, 38.3\n",
    "]\n",
    "\n",
    "ticks = []\n",
    "for date in x:\n",
    "    ticks.append(f'7월 {date}일')\n",
    "\n",
    "# 막대 그래프를 그립니다.\n",
    "plt.bar(x, temperatures)\n",
    "\n",
    "# 그래프의 제목을 설정합니다. 제목은 상단 중앙에 생성됩니다.\n",
    "plt.title('날짜별 기온', fontproperties=font)\n",
    "\n",
    "# 그래프의 x축에 들어갈 tick 텍스트를 설정해 줍니다.\n",
    "plt.xticks(x, ticks, fontproperties=font, rotation='vertical')"
   ]
  },
  {
   "cell_type": "markdown",
   "id": "2ba13fbf",
   "metadata": {},
   "source": [
    "## 꺾은선 그래프 그리기\n",
    "\n",
    "기온의 변화를 쉽게 관찰하기에는, 막대 그래프보다 꺾은선 그래프가 더 적절하겠죠? matplotlib은 막대 그래프 외에도 scatter plot, 꺾은선 그래프 등의 다양한 차트 형식을 제공하고 있습니다.\n",
    "\n",
    "plt.bar() 함수 대신, plt.plot() 함수를 사용하면 꺾은선 그래프를 그릴 수 있습니다.\n",
    "\n",
    "영상의 설명을 따라, 2018년 7월의 서울 일자별 최고 기온을 나타내는 꺾은선 그래프를 그려 보세요."
   ]
  },
  {
   "cell_type": "code",
   "execution_count": 7,
   "id": "a24c023f",
   "metadata": {},
   "outputs": [
    {
     "data": {
      "text/plain": [
       "([<matplotlib.axis.XTick at 0x7fc52ad3af70>,\n",
       "  <matplotlib.axis.XTick at 0x7fc52ad3af40>,\n",
       "  <matplotlib.axis.XTick at 0x7fc52ad3ac70>,\n",
       "  <matplotlib.axis.XTick at 0x7fc52adca7f0>,\n",
       "  <matplotlib.axis.XTick at 0x7fc52adcaf40>,\n",
       "  <matplotlib.axis.XTick at 0x7fc52add26d0>,\n",
       "  <matplotlib.axis.XTick at 0x7fc52adcaf10>,\n",
       "  <matplotlib.axis.XTick at 0x7fc52add2880>,\n",
       "  <matplotlib.axis.XTick at 0x7fc52add9370>,\n",
       "  <matplotlib.axis.XTick at 0x7fc52add9ac0>,\n",
       "  <matplotlib.axis.XTick at 0x7fc52addf250>,\n",
       "  <matplotlib.axis.XTick at 0x7fc52addf9d0>,\n",
       "  <matplotlib.axis.XTick at 0x7fc52ae14160>,\n",
       "  <matplotlib.axis.XTick at 0x7fc52addf640>,\n",
       "  <matplotlib.axis.XTick at 0x7fc52add92b0>,\n",
       "  <matplotlib.axis.XTick at 0x7fc52ae14670>,\n",
       "  <matplotlib.axis.XTick at 0x7fc52ae14dc0>,\n",
       "  <matplotlib.axis.XTick at 0x7fc52ae1b550>,\n",
       "  <matplotlib.axis.XTick at 0x7fc52ae1bca0>,\n",
       "  <matplotlib.axis.XTick at 0x7fc52ae21430>,\n",
       "  <matplotlib.axis.XTick at 0x7fc52ae1b580>,\n",
       "  <matplotlib.axis.XTick at 0x7fc52add2190>,\n",
       "  <matplotlib.axis.XTick at 0x7fc52ae21820>,\n",
       "  <matplotlib.axis.XTick at 0x7fc52ae2a070>,\n",
       "  <matplotlib.axis.XTick at 0x7fc52ae2a730>,\n",
       "  <matplotlib.axis.XTick at 0x7fc52ae2ae80>,\n",
       "  <matplotlib.axis.XTick at 0x7fc52ae2ae50>,\n",
       "  <matplotlib.axis.XTick at 0x7fc52ae21b50>,\n",
       "  <matplotlib.axis.XTick at 0x7fc52ae1b490>,\n",
       "  <matplotlib.axis.XTick at 0x7fc52ae30b20>,\n",
       "  <matplotlib.axis.XTick at 0x7fc52ae362b0>],\n",
       " [Text(0, 0, '0'),\n",
       "  Text(1, 0, '1'),\n",
       "  Text(2, 0, '2'),\n",
       "  Text(3, 0, '3'),\n",
       "  Text(4, 0, '4'),\n",
       "  Text(5, 0, '5'),\n",
       "  Text(6, 0, '6'),\n",
       "  Text(7, 0, '7'),\n",
       "  Text(8, 0, '8'),\n",
       "  Text(9, 0, '9'),\n",
       "  Text(10, 0, '10'),\n",
       "  Text(11, 0, '11'),\n",
       "  Text(12, 0, '12'),\n",
       "  Text(13, 0, '13'),\n",
       "  Text(14, 0, '14'),\n",
       "  Text(15, 0, '15'),\n",
       "  Text(16, 0, '16'),\n",
       "  Text(17, 0, '17'),\n",
       "  Text(18, 0, '18'),\n",
       "  Text(19, 0, '19'),\n",
       "  Text(20, 0, '20'),\n",
       "  Text(21, 0, '21'),\n",
       "  Text(22, 0, '22'),\n",
       "  Text(23, 0, '23'),\n",
       "  Text(24, 0, '24'),\n",
       "  Text(25, 0, '25'),\n",
       "  Text(26, 0, '26'),\n",
       "  Text(27, 0, '27'),\n",
       "  Text(28, 0, '28'),\n",
       "  Text(29, 0, '29'),\n",
       "  Text(30, 0, '30')])"
      ]
     },
     "execution_count": 7,
     "metadata": {},
     "output_type": "execute_result"
    },
    {
     "data": {
      "image/png": "[encoded data removed]",
      "text/plain": [
       "<Figure size 432x288 with 1 Axes>"
      ]
     },
     "metadata": {
      "needs_background": "light"
     },
     "output_type": "display_data"
    }
   ],
   "source": [
    "import matplotlib.pyplot as plt\n",
    "import matplotlib.font_manager as fm\n",
    "\n",
    "\n",
    "font = fm.FontProperties(fname='./NanumBarunGothic.ttf')\n",
    "\n",
    "x = range(31)\n",
    "temperatures = [\n",
    "    22.8, 25.3, 32.6, 31.8, 29.0, 27.1, 29.2,\n",
    "    28.1, 24.2, 26.5, 29.5, 28.2, 30.9, 31.9,\n",
    "    33.2, 34.0, 32.1, 33.2, 34.1, 34.7, 36.9,\n",
    "    38.0, 35.7, 36.8, 34.1, 33.7, 35.4, 35.2,\n",
    "    36.7, 36.9, 38.3\n",
    "]\n",
    "\n",
    "ticks = x\n",
    "\n",
    "# 꺾은선 그래프를 그립니다.\n",
    "plt.plot(x, temperatures)\n",
    "\n",
    "\n",
    "# 그래프의 제목을 설정합니다. 제목은 상단 중앙에 생성됩니다.\n",
    "plt.title('날짜별 기온', fontproperties=font)\n",
    "\n",
    "# 그래프의 x축에 들어갈 tick 텍스트를 설정해 줍니다.\n",
    "plt.xticks(x, ticks, fontproperties=font)"
   ]
  },
  {
   "cell_type": "code",
   "execution_count": null,
   "id": "fe6c7836",
   "metadata": {},
   "outputs": [],
   "source": []
  }
 ],
 "metadata": {
  "kernelspec": {
   "display_name": "Python 3 (ipykernel)",
   "language": "python",
   "name": "python3"
  },
  "language_info": {
   "codemirror_mode": {
    "name": "ipython",
    "version": 3
   },
   "file_extension": ".py",
   "mimetype": "text/x-python",
   "name": "python",
   "nbconvert_exporter": "python",
   "pygments_lexer": "ipython3",
   "version": "3.9.7"
  }
 },
 "nbformat": 4,
 "nbformat_minor": 5
}
