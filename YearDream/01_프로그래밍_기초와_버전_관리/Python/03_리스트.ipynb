{
 "cells": [
  {
   "cell_type": "markdown",
   "id": "cdad5376",
   "metadata": {},
   "source": [
    "### 리스트에 원소 추가하기\n",
    "\n",
    "리스트에 원소를 추가하는 방법은 다음과 같습니다.\n",
    "\n",
    "* 원소 추가 : 리스트이름.append(자료)\n",
    "\n",
    "단, 추가한 원소는 리스트의 마지막 원소 뒤에 추가됩니다. (빈 리스트라면 가장 처음위치)\n",
    "\n",
    "```Python\n",
    "my_list = []\n",
    "my_list.append(1)\n",
    "my_list.append(2)\n",
    "my_list.append(3)\n",
    "\n",
    "print(my_list) #[1, 2, 3]\n",
    "```\n",
    "실습을 따라해보면서 리스트에 원소를 추가하는 방법을 익혀봅시다."
   ]
  },
  {
   "cell_type": "code",
   "execution_count": 1,
   "id": "cf2f8c5a",
   "metadata": {},
   "outputs": [
    {
     "name": "stdout",
     "output_type": "stream",
     "text": [
      "[5, 4, 2, 1]\n"
     ]
    }
   ],
   "source": [
    "my_list = []\n",
    "my_list.append(5)\n",
    "my_list.append(4)\n",
    "my_list.append(2)\n",
    "my_list.append(1)\n",
    "\n",
    "print(my_list)"
   ]
  },
  {
   "cell_type": "markdown",
   "id": "c589a56b",
   "metadata": {},
   "source": [
    "### 리스트 원소 삽입\n",
    "\n",
    "리스트에 원소를 삽입하는 방법은 다음과 같습니다.\n",
    "\n",
    "* 원소 삽입 : 리스트이름.insert(인덱스, 자료)\n",
    "\n",
    "```Python\n",
    "my_list = ['a', 'c']\n",
    "my_list.insert(1, 'b')\n",
    "\n",
    "print(my_list) #['a', 'b', 'c']\n",
    "```\n",
    "\n",
    "실습을 따라해보면서 리스트에 원소를 삽입하는 방법을 익혀봅시다."
   ]
  },
  {
   "cell_type": "code",
   "execution_count": 4,
   "id": "71423f38",
   "metadata": {},
   "outputs": [
    {
     "name": "stdout",
     "output_type": "stream",
     "text": [
      "[5, 4, 3, 2, 1]\n"
     ]
    }
   ],
   "source": [
    "my_list = [5,4,2,1]\n",
    "my_list.insert(2, 3)\n",
    "\n",
    "print(my_list)"
   ]
  },
  {
   "cell_type": "markdown",
   "id": "58a342f2",
   "metadata": {},
   "source": [
    "### 리스트 내부의 원소 삭제하기\n",
    "\n",
    "리스트에 원소를 삭제하는 방법은 다음과 같습니다.\n",
    "\n",
    "* 원소 삽입 : 리스트이름.remove(삭제할 자료)\n",
    "\n",
    "```Python\n",
    "my_list = ['a', 'b', 'c', 'f']\n",
    "my_list.remove('f')\n",
    "print(my_list) #['a', 'b', 'c']\n",
    "\n",
    "my_list.remove('d') #오류!\n",
    "```\n",
    "\n",
    "단, 리스트 안에 존재하지 않는 원소를 지우려고 하면 오류가 발생해요!\n",
    "\n",
    "실습을 따라해보면서 리스트 내부의 원소를 삭제하는 방법을 익혀봅시다."
   ]
  },
  {
   "cell_type": "code",
   "execution_count": 7,
   "id": "1a3f9613",
   "metadata": {},
   "outputs": [
    {
     "name": "stdout",
     "output_type": "stream",
     "text": [
      "[5, 4, 3, 2, 1]\n"
     ]
    }
   ],
   "source": [
    "my_list = [5,2,4,3,2,1]\n",
    "my_list.remove(2)\n",
    "print(my_list)"
   ]
  },
  {
   "cell_type": "markdown",
   "id": "5f82a16b",
   "metadata": {},
   "source": [
    "### 리스트의 원소 정렬하기\n",
    "\n",
    "리스트 안에 있는 원소를 정렬하는 방법은 다음과 같습니다.\n",
    "\n",
    "* 원소 정렬 : 리스트이름.sort()\n",
    "\n",
    "```Python\n",
    "my_list = ['banana', 'apple', 'carrot']\n",
    "my_list.sort()\n",
    "print(my_list) #['apple', 'banana', 'carrot']\n",
    "```\n",
    "\n",
    "* 숫자는 오름차순, 문자열은 사전순으로 리스트가 정렬됩니다.\n",
    "\n",
    "실습을 따라해보면서 리스트의 원소를 정렬하는 방법을 익혀봅시다."
   ]
  },
  {
   "cell_type": "code",
   "execution_count": 8,
   "id": "557b9f52",
   "metadata": {},
   "outputs": [
    {
     "name": "stdout",
     "output_type": "stream",
     "text": [
      "[2, 3, 4, 5]\n"
     ]
    }
   ],
   "source": [
    "my_list = [5,4,3,2]\n",
    "my_list.sort()\n",
    "print(my_list) "
   ]
  },
  {
   "cell_type": "markdown",
   "id": "0c57bc26",
   "metadata": {},
   "source": [
    "### 시퀀스의 인덱싱과 슬라이싱\n",
    "\n",
    "* 인덱싱 : 시퀀스의 한 원소를 가져오는 것\n",
    "* 슬라이싱 : 시퀀스의 일부분을 가져오는 것\n",
    "\n",
    "```Python\n",
    "my_list = [1, 2, 3, 4, 5]\n",
    "print(my_list[2]) #3\n",
    "print(my_list[1:4]) #[2, 3, 4]\n",
    "```\n",
    "\n",
    "실습을 따라해보면서 시퀀스에서 인덱싱과 슬라이싱을 하는 방법을 익혀봅시다."
   ]
  },
  {
   "cell_type": "code",
   "execution_count": 10,
   "id": "d7d5d15a",
   "metadata": {},
   "outputs": [
    {
     "name": "stdout",
     "output_type": "stream",
     "text": [
      "Chamwae\n",
      "possible\n"
     ]
    }
   ],
   "source": [
    "my_str = 'Impossible'\n",
    "my_list = [\"Apple\", \"Banana\", \"Chamwae\", \"Durian\"]\n",
    "var1 = my_list[2]\n",
    "var2 = my_str[2:]\n",
    "\n",
    "print(var1)\n",
    "print(var2)"
   ]
  },
  {
   "cell_type": "markdown",
   "id": "ed825810",
   "metadata": {},
   "source": [
    "### 시퀀스의 길이와 멤버 조사하기\n",
    "\n",
    "* 길이 : len(시퀀스)\n",
    "* 멤버 조사 : 원소 in 시퀀스 (존재하면 True, 존재하지 않으면 False)\n",
    "\n",
    "```Python    \n",
    "my_str = \"abc\"\n",
    "print(len(my_str)) #3 - my_str의 길이\n",
    "print('d' in my_str) #False - 존재하지 않음\n",
    "```\n",
    "\n",
    "실습을 따라해보면서 시퀀스의 길이와 멤버를 조사하는 방법을 익혀봅시다."
   ]
  },
  {
   "cell_type": "code",
   "execution_count": 13,
   "id": "3ec4902c",
   "metadata": {},
   "outputs": [
    {
     "name": "stdout",
     "output_type": "stream",
     "text": [
      "10\n",
      "False\n"
     ]
    }
   ],
   "source": [
    "my_str =  \"Impossible\"\n",
    "my_list = [\"Apple\", \"Banana\", \"Chamwae\", \"Durian\"]\n",
    "var1 = len(my_str)\n",
    "var2 = \"Egg\" in my_list\n",
    "\n",
    "print(var1)\n",
    "print(var2)"
   ]
  },
  {
   "cell_type": "markdown",
   "id": "068fe764",
   "metadata": {},
   "source": [
    "### 시퀀스의 연결과 반복\n",
    "\n",
    "* 연결 연산 : + - 두 시퀀스를 연결해줍니다(with 시퀀스)\n",
    "* 반복 연산 : * - 한 시퀀스를 반복합니다(with 숫자)\n",
    "\n",
    "```Python    \n",
    "print( \"안녕\" + \"하세요\" ) #안녕하세요\n",
    "print( [1, 2] * 2 ) #[1, 2, 1, 2]\n",
    "```\n",
    "\n",
    "실습을 따라해보면서 시퀀스를 연결하고 반복하는 방법을 익혀봅시다."
   ]
  },
  {
   "cell_type": "code",
   "execution_count": 14,
   "id": "f6041db2",
   "metadata": {},
   "outputs": [
    {
     "name": "stdout",
     "output_type": "stream",
     "text": [
      "Python\n",
      "[3, 6, 9, 3, 6, 9, 3, 6, 9]\n"
     ]
    }
   ],
   "source": [
    "# 1. 문자열 \"Py\"가 담긴 변수 str1과 문자열 \"thon\"이 담긴 변수 str2를 만들어봅시다.\n",
    "str1 = 'Py'\n",
    "str2 = 'thon'\n",
    "# 2. 리스트 [3, 6, 9]가 담긴 변수 my_list를 만들어봅시다.\n",
    "my_list = [3, 6, 9]\n",
    "# 3. str1과 str2를 연결한 문자열을 변수 var1에 넣어봅시다\n",
    "var1 = str1 + str2\n",
    "# 4. my_list를 3번 반복한 리스트를 변수 var2에 넣어봅시다.\n",
    "var2 = my_list * 3\n",
    "\n",
    "print(var1)\n",
    "print(var2)"
   ]
  },
  {
   "cell_type": "markdown",
   "id": "37e64708",
   "metadata": {},
   "source": [
    "### 부산행 기차가 지금 출발합니다!\n",
    "\n",
    "부산행 기차가 사람들을 태우고 출발하려 하고 있어요!\n",
    "기차역에 설 때마다 여러 이벤트가 발생합니다.\n",
    "우리가 배웠던 리스트의 활용으로 차장님을 도와줍시다!\n",
    "\n",
    "지시에 따라 주어진 임무를 수행해보세요!"
   ]
  },
  {
   "cell_type": "code",
   "execution_count": 15,
   "id": "d6698c0b",
   "metadata": {},
   "outputs": [
    {
     "name": "stdout",
     "output_type": "stream",
     "text": [
      "서울역 도착. //  ['Seongjin', 'Chankyung', 'Junyong', 'Jonghwan']\n",
      "대전역 도착. //  ['Dongbin', 'Seongjin', 'Chankyung', 'Junyong', 'Jonghwan']\n",
      "동대구역 도착. //  ['Dongbin', 'Chankyung', 'Junyong', 'Jonghwan']\n",
      "부산역 도착. //  ['Chankyung', 'Dongbin', 'Jonghwan', 'Junyong']\n",
      "오늘도 빠르고 편안한 기차를 이용해주셔서 감사합니다.\n"
     ]
    }
   ],
   "source": [
    "#현재 기차에는 3명의 승객이 탑승하고 있습니다.\n",
    "train = ['Seongjin', 'Chankyung', 'Junyong']\n",
    "\n",
    "# 서울역에 정차했습니다. \n",
    "# 승객 'Jonghwan'을 맨 뒷칸에 태우세요.\n",
    "train.append('Jonghwan')\n",
    "\n",
    "\n",
    "print('서울역 도착. // ', train)\n",
    "# 대전역에 정차했습니다. \n",
    "# 1등석 승객 'Dongbin'이 탑승했습니다. 이 분을 맨 앞에 태우세요.\n",
    "train.insert(0, 'Dongbin')\n",
    "\n",
    "\n",
    "print('대전역 도착. // ', train)\n",
    "# 동대구역에 정차했습니다. \n",
    "# 승객 'Seongjin'님이 내린다고 합니다. 이 분을 하차시켜주세요.\n",
    "train.remove('Seongjin')\n",
    "\n",
    "\n",
    "print('동대구역 도착. // ', train)\n",
    "# 마지막 역인 부산역에 정차했습니다. \n",
    "# 원활한 하차를 위해 손님들의 자리를 사전순으로 다시 지정해주세요.\n",
    "train.sort()\n",
    "\n",
    "\n",
    "print('부산역 도착. // ', train)\n",
    "print('오늘도 빠르고 편안한 기차를 이용해주셔서 감사합니다.')"
   ]
  },
  {
   "cell_type": "markdown",
   "id": "09bf7add",
   "metadata": {},
   "source": [
    "### 과연 이번에도 훔쳐갈 수 있을까?\n",
    "\n",
    "지난번에 보석을 도둑맞은 보석상 다현과 쯔위는 인덱스를 알아보지 못하도록 매우 많은 보석을 들고 이동하고 있어요.\n",
    "\n",
    "인덱싱와 슬라이싱을 응용해서,\n",
    "이번에도 저 보석들을 한번 훔쳐볼까요?\n",
    "\n",
    "지시대로 다현과 쯔위의 보석을 훔쳐봅시다!"
   ]
  },
  {
   "cell_type": "code",
   "execution_count": 16,
   "id": "9ad9f029",
   "metadata": {},
   "outputs": [
    {
     "name": "stdout",
     "output_type": "stream",
     "text": [
      "dahyun로부터 훔쳐온 보석은 다이아몬드\n",
      "tzuyu로부터 훔쳐온 보석은 ['금', '금', '금', '금', '금', '금', '금', '금', '금', '금', '금', '금', '금']\n"
     ]
    }
   ],
   "source": [
    "#dahyun의 가방 안에서 '다이아몬드'를 훔쳐볼까요?\n",
    "dahyun = ['은', '은', '은', '은', '은', '은', '은', '은', '은', \n",
    "          '은', '은', '은', '은', '은', '은', '은', '은', '은', \n",
    "          '은', '은', '은', '은', '은', '은', '은', '은', '은', \n",
    "          '은', '은', '은', '은', '은', '은', '은', '은', '은', \n",
    "          '은', '은', '은', '은', '은', '은', '다이아몬드', '은']\n",
    "\n",
    "#이 가방에 한번 넣어봅시다!\n",
    "stealBag1 = dahyun[-2]\n",
    "\n",
    "#tzuyu는 가방 안 깊숙히 금을 13개 가지고 있네요! 이것들도 한번 훔쳐볼까요?\n",
    "tzuyu = ['은', '은', '은', '은', '은', '은', '은', '은', '은', \n",
    "         '은', '은', '은', '은', '은', '은', '은', '은', '은',\n",
    "         '금', '금', '금', '금', '금', '금', '금', '금', '금', \n",
    "         '금', '금', '금', '금' ]\n",
    "\n",
    "#이 가방에 한번 넣어봅시다!\n",
    "stealBag2 = tzuyu[-13:]\n",
    "\n",
    "#여러분이 훔쳐온 보석은 무엇인지 print()를 이용해서 한번 확인해보세요!\n",
    "print('dahyun로부터 훔쳐온 보석은', stealBag1)\n",
    "print('tzuyu로부터 훔쳐온 보석은', stealBag2)"
   ]
  },
  {
   "cell_type": "markdown",
   "id": "78fbafec",
   "metadata": {},
   "source": [
    "### 아이돌 탐구\n",
    "\n",
    "아이돌을 좋아하는 경민이는 친구 호준이에게 아이돌에 대해 알려주기 위해 아이돌 그룹과 멤버들을 정리해놓았어요.\n",
    "\n",
    "요즘 부쩍 아이돌에 관심이 생긴 호준이는 경민이가 만든 아이돌 정리표를 보고 열심히 공부하고 있습니다.\n",
    "\n",
    "호준이와 함께 아이돌을 탐구해보아요!"
   ]
  },
  {
   "cell_type": "code",
   "execution_count": 17,
   "id": "31f1535e",
   "metadata": {},
   "outputs": [
    {
     "name": "stdout",
     "output_type": "stream",
     "text": [
      "9\n",
      "4\n",
      "False\n",
      "True\n",
      "True\n"
     ]
    }
   ],
   "source": [
    "twice = [\"모모\", \"쯔위\", \"사나\", \"지효\", \"미나\", \"다현\", \"나연\", \"정연\", \"채영\"]\n",
    "\n",
    "blackpink = [\"지수\", \"제니\", \"리사\", \"로제\"]\n",
    "\n",
    "# 1. 트와이스와 블랙핑크의 멤버는 각각 몇 명일까요? 한 번 알아봅시다!\n",
    "twice_member = len(twice)\n",
    "print(twice_member)\n",
    "\n",
    "blackpink_member = len(blackpink)\n",
    "print(blackpink_member)\n",
    "\n",
    "\n",
    "# 2. 멤버 수가 많아 헷갈리네요! 누가 어디 그룹의 소속인지 알아보고 각각 출력해봅시다.\n",
    "\n",
    "# 2-1. 모모는 블랙핑크 소속일까요? in을 써서 알아봅시다.\n",
    "isMomoBlackpink = '모모' in blackpink\n",
    "print(isMomoBlackpink)\n",
    "# 2-2. 쯔위는 트와이스 소속일까요?\n",
    "isTzuyuTwice = '쯔위' in twice\n",
    "print(isTzuyuTwice)\n",
    "# 2-3. 지수는 블랙핑크 소속일까요?\n",
    "isJisooBlackpink = '지수' in blackpink\n",
    "print(isJisooBlackpink)"
   ]
  },
  {
   "cell_type": "markdown",
   "id": "18630c07",
   "metadata": {},
   "source": [
    "### 수능 금지곡\n",
    "\n",
    "고3인 유현이는 수능을 1주일 앞두고 친구에게 좋은 선물을 주고 싶어합니다. 그 중에서도, 중독성이 가장 강한 ‘링딩동’ 노래를 부르려고 하는데, 유현이는 'ring', 'ding', 'dong', 'diggi'라는 가사의 일부분만 알고 있습니다.\n",
    "\n",
    "실습에서 시퀀스의 두 연산(+, *)을 이용해 친구를 괴롭히러 가봅시다."
   ]
  },
  {
   "cell_type": "code",
   "execution_count": 18,
   "id": "8930fd24",
   "metadata": {},
   "outputs": [
    {
     "name": "stdout",
     "output_type": "stream",
     "text": [
      "['ring', 'ding', 'dong']\n",
      "['ring', 'ding', 'dong', 'ring', 'ding', 'dong']\n",
      "['ring', 'ding', 'dong', 'ring', 'ding', 'dong'] ['ring', 'diggi', 'ding', 'diggi', 'ding', 'ding', 'ding']\n"
     ]
    }
   ],
   "source": [
    "a = ['ring']\n",
    "b = ['ding']\n",
    "c = ['dong']\n",
    "d = ['diggi']\n",
    "# 연결 연산자를 이용해서 ['ring', 'ding', 'dong']를 lyric에 대입해봅시다.\n",
    "lyric = a + b + c\n",
    "print(lyric)\n",
    "# 수능을 하루 앞둔 친구에게 수능 금지곡을 들려줍시다!\n",
    "# 변수 shinee에 다음 리스트를 담아봅시다.\n",
    "# ['ring', 'ding', 'dong', 'ring', 'ding', 'dong']\n",
    "shinee1 = (a + b + c)*2\n",
    "print(shinee1)\n",
    "# 노래가 좀 짧네요! 뒷부분도 불러봅시다!\n",
    "#['ring','diggi','ding','diggi','ding','ding','ding']\n",
    "shinee2 = a + d + b + d + b + b + b\n",
    "print(shinee1,shinee2)"
   ]
  },
  {
   "cell_type": "markdown",
   "id": "758c4e9e",
   "metadata": {},
   "source": [
    "### 문자열로 무기를 강화해서 나만의 무기를 만들어봅시다!\n",
    "\n",
    "엘리스에서 최근 출시한 게임 금코토M에서는 다음과 같이 무기 강화를 진행합니다.\n",
    "\n",
    "세 문자열 item1, item2, item3이 주어졌을 때, 이들을 이어붙인 문자열 + “무기” 형태의 무기 weapon이 완성됩니다.\n",
    "예를 들어,\n",
    "\n",
    "```Python\n",
    "item1 = \"완전 좋고\"\n",
    "item2 = \"빛나며\"\n",
    "item3 = \"손에 착착 감기는\"\n",
    "```\n",
    "\n",
    "의 값을 대입하여,\n",
    "\n",
    "```Pyton\n",
    "완전 좋고 빛나며 손에 착착 감기는 무기\n",
    "```\n",
    "\n",
    "의 결과를 출력할 수 있습니다.\n",
    "\n",
    "변수와 시퀀스의 연결 연산을 이용해서 여러분만의 무기를 만들어봅시다!"
   ]
  },
  {
   "cell_type": "code",
   "execution_count": 19,
   "id": "412040e6",
   "metadata": {},
   "outputs": [
    {
     "name": "stdout",
     "output_type": "stream",
     "text": [
      "I am Your Father 무기\n"
     ]
    }
   ],
   "source": [
    "# 변수 item1, item2, item3을 선언하고, 문자열을 자유롭게 넣어봅시다.\n",
    "item1 = 'I am'\n",
    "item2 = 'Your'\n",
    "item3 = 'Father'\n",
    "\n",
    "# item1, item2, item3과 “무기” 문자열을 차례대로 이어 붙여서 여러분의 무기 weapon을 만들어봅시다.\n",
    "weapon = item1 + \" \" + item2 + \" \" + item3 + \" 무기\"\n",
    "print(weapon)"
   ]
  },
  {
   "cell_type": "markdown",
   "id": "18328790",
   "metadata": {},
   "source": [
    "### remove를 잘 쓰려면 우선 있는지부터 확인!\n",
    "\n",
    "리스트에서 .remove()는 원소를 삭제하는 데에 쓰이지만, 만약 그 원소가 리스트 내부에 없을 경우, 오류가 발생합니다.\n",
    "\n",
    "따라서 우리는 지우려는 원소가 리스트에 있는지 확인한 다음, 원소를 지우거나 다른 조치를 취해야 합니다.\n",
    "\n",
    "절차를 따라서 리스트 안의 원소의 값을 오류 없이 제거해봅시다."
   ]
  },
  {
   "cell_type": "code",
   "execution_count": 20,
   "id": "498f52a7",
   "metadata": {},
   "outputs": [
    {
     "name": "stdout",
     "output_type": "stream",
     "text": [
      "Pineapple은(는) 리스트 안에 없습니다!\n"
     ]
    }
   ],
   "source": [
    "# 과일들이 담긴 리스트 fruits입니다.\n",
    "fruits = ['Apple', 'Banana', 'Chamwae', 'Durian']\n",
    "\n",
    "# 지시사항에 맞추어 \"Durian\"을 fruits에서 지워봅시다.\n",
    "target = 'Durian'\n",
    "if target in fruits:\n",
    "    fruits.remove(target)\n",
    "else:\n",
    "    print('{}은(는) 리스트 안에 없습니다!'.format(target))\n",
    "# 지시사항에 맞추어 \"Pineapple\"을 fruits에서 지워봅시다.\n",
    "target = 'Pineapple'\n",
    "if target in fruits:\n",
    "    fruits.remove(target)\n",
    "else:\n",
    "    print('{}은(는) 리스트 안에 없습니다!'.format(target))"
   ]
  }
 ],
 "metadata": {
  "kernelspec": {
   "display_name": "Python 3 (ipykernel)",
   "language": "python",
   "name": "python3"
  },
  "language_info": {
   "codemirror_mode": {
    "name": "ipython",
    "version": 3
   },
   "file_extension": ".py",
   "mimetype": "text/x-python",
   "name": "python",
   "nbconvert_exporter": "python",
   "pygments_lexer": "ipython3",
   "version": "3.9.7"
  }
 },
 "nbformat": 4,
 "nbformat_minor": 5
}
