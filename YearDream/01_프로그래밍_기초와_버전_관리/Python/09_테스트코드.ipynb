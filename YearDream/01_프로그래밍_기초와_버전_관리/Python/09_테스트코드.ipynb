{
 "cells": [
  {
   "cell_type": "markdown",
   "id": "b4e0f0d9",
   "metadata": {},
   "source": [
    "### Palindrome 테스트\n",
    "\n",
    "주어진 문자열이 회문(palindrome) 인지 확인하는 is_palindrome() 함수를 테스트해 보겠습니다.\n",
    "\n",
    "is_palindrome() 함수는 다음과 같은 조건을 만족해야 합니다.\n",
    "\n",
    "* 하나의 문자열을 매개변수로 받습니다.\n",
    "* 주어진 문자열이 앞으로 읽어도 뒤로 읽어도 같은 회문이라면, True를 리턴합니다. (예시: madam, level, 다시합창합시다)\n",
    "* 주어진 문자열에서 대소문자, 공백, 특수문자는 무시합니다. 즉, “다시 합창합시다!” 는 회문입니다.\n",
    "* 빈 문자열은 회문으로 취급합니다.\n",
    "\n",
    "여러분이 작성할 test_is_palindrome() 함수는 assert를 이용해 함수를 테스트합니다. 테스트할 함수 is_palindrome이 매개변수로 주어집니다. 실행했을 때 아무런 에러가 발생하지 않으면 테스트를 모두 통과한 것입니다.\n",
    "\n",
    "위의 조건을 잘 읽고, 테스트 함수를 완성해 보세요."
   ]
  },
  {
   "cell_type": "code",
   "execution_count": 10,
   "id": "32883db4",
   "metadata": {},
   "outputs": [
    {
     "name": "stdout",
     "output_type": "stream",
     "text": [
      "False\n",
      "True\n"
     ]
    }
   ],
   "source": [
    "import string\n",
    "\n",
    "def is_palindrome(text):\n",
    "    text = ''.join(text.lower().split())\n",
    "    for char in string.punctuation:\n",
    "        text = text.replace(char, \"\")\n",
    "\n",
    "    if text == \"\":\n",
    "        return True\n",
    "    if text[0] != text[-1]:\n",
    "        return False\n",
    "    return is_palindrome(text[1:-1])\n",
    "\n",
    "print(is_palindrome('abcd'))\n",
    "print(is_palindrome('madam'))"
   ]
  },
  {
   "cell_type": "code",
   "execution_count": 9,
   "id": "547ed5eb",
   "metadata": {},
   "outputs": [],
   "source": [
    "# 다양한 예시에 대해 함수를 테스트합니다.\n",
    "def test_is_palindrome(is_palindrome):    \n",
    "    # 문자열 \"madam\"에 대해 테스트합니다. 리턴값은 True여야 합니다.\n",
    "    assert(is_palindrome(\"madam\") == True)\n",
    "\n",
    "    # 아래 assert 안의 False들을 지우고 코드를 작성하면 됩니다.\n",
    "    # 올바른 리턴값은 문제 설명의 함수 설계를 보고 생각해 보세요.\n",
    "\n",
    "    # 문자열 \"adam\"에 대해 테스트합니다.\n",
    "    assert(is_palindrome(\"adam\") == False)\n",
    "\n",
    "    # 빈 문자열에 대해 테스트합니다.\n",
    "    assert(is_palindrome(\"\") == True)\n",
    "\n",
    "    # 문자열 \"Step on no pets\"에 대해 테스트합니다.\n",
    "    assert(is_palindrome(\"Step on no pets\") == True)\n",
    "\n",
    "    # 문자열 \"Madam, I'm Adam\"에 대해 테스트합니다.\n",
    "    assert(is_palindrome(\"Madam, I'm Adam\") == True)\n",
    "\n",
    "    # 문자열 \"소주 만 병만 주소\"에 대해 테스트합니다.\n",
    "    assert(is_palindrome(\"소주 만 병만 주소\") == True)\n",
    "\n",
    "    # 문자열 \"!소주 만 병만 주소?\"에 대해 테스트합니다.\n",
    "    assert(is_palindrome(\"!소주 만 병만 주소?\") == True)\n",
    "\n",
    "    # 문자열 \"소주 만 병쯤만 주소\"에 대해 테스트합니다.\n",
    "    assert(is_palindrome(\"소주 만 병쯤만 주소\") == False)\n",
    "\n",
    "test_is_palindrome(is_palindrome)"
   ]
  },
  {
   "cell_type": "markdown",
   "id": "4ccd318c",
   "metadata": {},
   "source": [
    "### 스마트 홈 테스트\n",
    "\n",
    "작성했던 함수 중, control_heater()를 테스트하는 문제입니다.\n",
    "\n",
    "control_heater() 함수는, heater를 매개변수로 받아, heater.current_temperature(현재 온도)와 heater.preferred_temperature(설정 온도)를 비교한 후, 현재 온도가 더 낮으면 히터를 켜고 (heater.is_turned_on = True), 아니면 끄는 함수입니다.\n",
    "\n",
    "assert문을 활용하여, 함수가 설계대로 작동하는지 확인하는 테스트를 짜 보세요."
   ]
  },
  {
   "cell_type": "code",
   "execution_count": 14,
   "id": "8a88a0e0",
   "metadata": {},
   "outputs": [
    {
     "name": "stdout",
     "output_type": "stream",
     "text": [
      "False\n",
      "0.0\n",
      "0.0\n",
      "True\n",
      "False\n"
     ]
    }
   ],
   "source": [
    "class Heater:\n",
    "    # 히터가 켜져 있는지 여부를 나타내는 bool 속성입니다.\n",
    "    is_turned_on = False\n",
    "\n",
    "    # 방 안의 현재 온도를 나타내는 float (소수) 속성입니다.\n",
    "    current_temperature = 0.0\n",
    "\n",
    "    # 사용자가 설정한 목표 온도를 나타내는 float (소수) 속성입니다.\n",
    "    preferred_temperature = 0.0\n",
    "\n",
    "    # 히터를 켭니다.\n",
    "    def turn_on(self):\n",
    "        self.is_turned_on = True\n",
    "    \n",
    "    # 히터를 끕니다.\n",
    "    def turn_off(self):\n",
    "        self.is_turned_on = False\n",
    "        \n",
    "H = Heater()\n",
    "print(H.is_turned_on)\n",
    "print(H.current_temperature)\n",
    "print(H.preferred_temperature)\n",
    "\n",
    "# 히터를 켠다.\n",
    "H.turn_on()\n",
    "print(H.is_turned_on)\n",
    "# 히터를 끈다.\n",
    "H.turn_off()\n",
    "print(H.is_turned_on)"
   ]
  },
  {
   "cell_type": "code",
   "execution_count": 17,
   "id": "8cc4c2ee",
   "metadata": {},
   "outputs": [],
   "source": [
    "# 현재 온도가 설정 온도보다 낮을 때 히터가 자동으로 켜지는지 확인합니다.\n",
    "def test_control_heater_when_cold(control_heater):\n",
    "    heater = Heater()\n",
    "    heater.current_temperature = 2.0\n",
    "    heater.preferred_temperature = 18.0\n",
    "    control_heater(heater)\n",
    "    assert(heater.is_turned_on == True)\n",
    "\n",
    "\n",
    "# 현재 온도가 설정 온도보다 높을 대 히터가 자동으로 꺼지는지 확인합니다.\n",
    "def test_control_heater_when_hot(control_heater):\n",
    "    heater = Heater()\n",
    "    heater.current_temperature = 18.0\n",
    "    heater.preferred_temperature = 2.0\n",
    "    control_heater(heater)\n",
    "    assert(heater.is_turned_on == False)\n",
    "\n",
    "\n",
    "# 현재 온도와 설정 온도가 같을 때 히터가 자동으로 꺼지는지 확인합니다.\n",
    "def test_control_heater_when_same(control_heater):\n",
    "    heater = Heater()\n",
    "    heater.current_temperature = 18.0\n",
    "    heater.preferred_temperature = 18.0\n",
    "    control_heater(heater)\n",
    "    assert(heater.is_turned_on == False)"
   ]
  },
  {
   "cell_type": "markdown",
   "id": "da1387b1",
   "metadata": {},
   "source": [
    "### unittest 실습\n",
    "\n",
    "이 실습에서는 Python의 기본 내장 모듈인 unittest를 실제로 활용하여 테스트 코드를 작성하는 실습을 해 보겠습니다.\n",
    "\n",
    "여러분의 빠른 적응을 위해, 실습 1 에서 만났던 is_palindrome() 함수를 다시 테스트해 보겠습니다. 실습 1에서는 assert 문을 이용해 테스트 코드를 작성했다면, 여기서는 unittest 모듈을 활용해, 조금 더 실수를 적게 할 수 있는 테스트 코드를 작성해 봅시다.\n",
    "\n",
    "다시 한 번 소개하자면, is_palindrome() 함수는 다음과 같은 조건들을 갖고 있습니다.\n",
    "\n",
    "* 하나의 문자열을 매개변수로 받습니다.\n",
    "* 주어진 문자열이 앞으로 읽어도 뒤로 읽어도 같은 회문이라면, True를 리턴합니다. (예시: madam, level, 다시합창합시다)\n",
    "* 주어진 문자열에서 대소문자, 공백, 특수문자는 무시합니다. 즉, “다시 합창합시다!” 는 회문입니다.\n",
    "* 빈 문자열은 회문으로 취급합니다.\n",
    "\n",
    "코드를 작성하기 전에 실행을 눌러, 테스트 코드의 결과가 어떻게 나오는지 확인해 보세요. 그리고 모든 테스트를 작성한 뒤에, 올바르게 작동하는지 확인해 보세요."
   ]
  },
  {
   "cell_type": "code",
   "execution_count": 19,
   "id": "4fc68a1c",
   "metadata": {},
   "outputs": [],
   "source": [
    "# is_palindrome을 테스트하는 테스트 함수들을 포함한 클래스입니다.\n",
    "class IsPalindromeTests(unittest.TestCase):\n",
    "    # 문자열 \"madam\"에 대해 테스트합니다.\n",
    "    def test_madam(self):\n",
    "        self.assertTrue(is_palindrome(\"madam\"))\n",
    "\n",
    "    # 아래의 잘못된 코드들을 지우고 코드를 작성하면 됩니다.\n",
    "    # 올바른 리턴값은 문제 설명의 함수 설계를 보고 생각해 보세요.\n",
    "\n",
    "    # 문자열 \"adam\"에 대해 테스트합니다.\n",
    "    def test_adam(self):\n",
    "        self.assertFalse(is_palindrome(\"adam\"))\n",
    "\n",
    "    # 빈 문자열에 대해 테스트합니다.\n",
    "    def test_empty(self):\n",
    "        self.assertTrue(is_palindrome(\"\"))\n",
    "\n",
    "    # 문자열 \"Step on no pets\"에 대해 테스트합니다.\n",
    "    def test_step_on_no_pets(self):\n",
    "        self.assertTrue(is_palindrome(\"Step on no pets\"))\n",
    "\n",
    "    # 문자열 \"Madam, I'm Adam\"에 대해 테스트합니다.\n",
    "    def test_madam_is_adam(self):\n",
    "        self.assertTrue(is_palindrome(\"Madam, I'm Adam\"))\n",
    "\n",
    "    # 문자열 \"소주 만 병만 주소\"에 대해 테스트합니다.\n",
    "    def test_soju(self):\n",
    "        self.assertTrue(is_palindrome(\"소주 만 병만 주소\"))\n",
    "\n",
    "    # 문자열 \"!소주 만 병만 주소?\"에 대해 테스트합니다.\n",
    "    def test_soju2(self):\n",
    "        self.assertTrue(is_palindrome(\"!소주 만 병만 주소?\"))\n",
    "\n",
    "    # 문자열 \"소주 만 병쯤만 주소\"에 대해 테스트합니다.\n",
    "    def test_soju3(self):\n",
    "        self.assertFalse(is_palindrome(\"소주 만 병쯤만 주소\"))"
   ]
  },
  {
   "cell_type": "code",
   "execution_count": null,
   "id": "ca587563",
   "metadata": {},
   "outputs": [],
   "source": []
  }
 ],
 "metadata": {
  "kernelspec": {
   "display_name": "Python 3 (ipykernel)",
   "language": "python",
   "name": "python3"
  },
  "language_info": {
   "codemirror_mode": {
    "name": "ipython",
    "version": 3
   },
   "file_extension": ".py",
   "mimetype": "text/x-python",
   "name": "python",
   "nbconvert_exporter": "python",
   "pygments_lexer": "ipython3",
   "version": "3.9.7"
  }
 },
 "nbformat": 4,
 "nbformat_minor": 5
}
