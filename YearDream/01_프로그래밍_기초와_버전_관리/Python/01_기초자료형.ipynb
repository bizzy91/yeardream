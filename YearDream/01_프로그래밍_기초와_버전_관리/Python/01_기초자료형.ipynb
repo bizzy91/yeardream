{
 "cells": [
  {
   "cell_type": "markdown",
   "id": "62734b44",
   "metadata": {},
   "source": [
    "### 삼행시 짓기\n",
    "\n",
    "\n",
    "print(\"출력할 내용\")를 이용하면 원하는 내용을 출력할 수 있습니다. 이를 활용하여 삼행시를 지어 봅시다.\n",
    "\n",
    "삼행시 예시는\n",
    "\n",
    ">바밤바는<br>\n",
    "밤이들어간<br>\n",
    "바이다.<br>\n",
    "\n",
    "입니다.\n",
    "자신만의 삼행시를 지어보아요!"
   ]
  },
  {
   "cell_type": "code",
   "execution_count": 1,
   "id": "75c2205e",
   "metadata": {},
   "outputs": [
    {
     "name": "stdout",
     "output_type": "stream",
     "text": [
      "바밤바는\n",
      "밤이들어간\n",
      "바이다.\n"
     ]
    }
   ],
   "source": [
    "print('바밤바는')\n",
    "print('밤이들어간')\n",
    "print('바이다.')"
   ]
  },
  {
   "cell_type": "markdown",
   "id": "0b4e623e",
   "metadata": {},
   "source": [
    "### 자료의 종류는 무궁무진!\n",
    "Python에 있는 대표적인 자료형으로는 숫자형 자료와 문자형 자료, 그리고 리스트형 자료가 있습니다.\n",
    "\n",
    "* 숫자 자료형은 우리가 알고있는 1, 2, 3 등의 정수와 3.14 등의 실수를 포함한 자료형입니다.\n",
    "* 문자 자료형은 'a', \"abc\"와 같이 한 문자나 단어, 문장을 '' 혹은 \"\"로 묶어준 자료형입니다.\n",
    "* 리스트 자료형는 위의 숫자형, 문자열 등의 여러 자료형을 한번에 담는 자료형입니다.\n",
    "```Python\n",
    "123 # 숫자<br>\n",
    "\"I love Python\" # 문자<br>\n",
    "[1, 2, 3] # 리스트\n",
    "```\n",
    "\n",
    "자료형은 저마다 연산하는 방식을 가지고 있는데, 그중에서 +(더하기) 기호가 자료형마다 어떻게 적용되는지 확인해봅시다."
   ]
  },
  {
   "cell_type": "code",
   "execution_count": 2,
   "id": "146a0b54",
   "metadata": {},
   "outputs": [
    {
     "name": "stdout",
     "output_type": "stream",
     "text": [
      "100\n",
      "5050\n",
      "[50, 50]\n"
     ]
    }
   ],
   "source": [
    "#숫자 50과 숫자 50을 더해서 출력해봅시다!\n",
    "print(50+50)\n",
    "\n",
    "#문자열 \"50\"과 문자열 \"50\"을 더해서 출력해봅시다!\n",
    "print('50'+'50')\n",
    "\n",
    "#리스트 [50]과 리스트 [50]을 더해서 출력해봅시다!\n",
    "print([50] + [50])"
   ]
  },
  {
   "cell_type": "markdown",
   "id": "6d75d180",
   "metadata": {},
   "source": [
    "### 변수의 사용 방법을 배워봅시다.\n",
    "변수는 자료를 담는 그릇입니다.\n",
    "변수를 직접 사용해봅시다.\n",
    "\n",
    "변수에는\n",
    "\n",
    "* 숫자\n",
    "* 문자\n",
    "* 문자들의 집합\n",
    "* 자료를 여러개 담는 리스트\n",
    "\n",
    "를 저장할 수 있습니다. 실습을 통해서 같이 해보도록 해요."
   ]
  },
  {
   "cell_type": "code",
   "execution_count": 4,
   "id": "8930ee76",
   "metadata": {},
   "outputs": [
    {
     "name": "stdout",
     "output_type": "stream",
     "text": [
      "Hello\n",
      "3\n"
     ]
    }
   ],
   "source": [
    "# 변수에는 정수, 실수같은 숫자를 저장할 수 있고,\n",
    "num1 = 1\n",
    "num2 = 2\n",
    "# 영어나 한글같은 문자도 저장할 수 있어요.\n",
    "character = 'a'\n",
    "\n",
    "# 이런 문자들의 집합도 저장할 수 있고,\n",
    "string = 'Python'\n",
    "\n",
    "# 자료들을 여러 개 담을 수 있는 리스트 또한 저장할 수 있어요.\n",
    "threeList = [1, 'a', 'Python']\n",
    "\n",
    "# 여러분의 변수를 만들어 봅시다. my_var라는 이름의 변수를 만들고, 원하는 값을 넣어보세요!\n",
    "my_var = 'Hello'\n",
    "\n",
    "# 변수는 print()에 넣을 수도 있어요! my_var를 print로 출력해서 값이 잘 들어갔는지 확인해봅시다!\n",
    "print(my_var)\n",
    "\n",
    "# 변수끼리는 연산 또한 가능합니다. 예를들어, 위에 있는 num1, num2을 더하면?!\n",
    "print(num1+num2)"
   ]
  },
  {
   "cell_type": "markdown",
   "id": "be65c9d1",
   "metadata": {},
   "source": [
    "### 알쏭달쏭 수수께끼!\n",
    "파이썬의 사칙연산을 배운 여러분을 위해 지효가 알쏭달쏭한 수수께끼를 냈습니다.\n",
    "```Python\n",
    "나는 자연수 중 하나를 생각하고 있어.\n",
    "그리고 그 수에서 829176을 더하고, 4927819를 뺀 다음, 243을 곱하고 1024로 나눴어.\n",
    "그랬더니 23571이라는 수가 나오더라구!  \n",
    "```\n",
    "지효가 생각하고있던 수는 무엇일까요?\n",
    "\n",
    "변수와 사칙연산을 이용해 지효가 시행한 연산을 반대로 진행하면서 풀어봅시다!\n",
    "\n",
    "주석의 힌트를 참고하세요! :)"
   ]
  },
  {
   "cell_type": "code",
   "execution_count": 5,
   "id": "e718f595",
   "metadata": {},
   "outputs": [
    {
     "name": "stdout",
     "output_type": "stream",
     "text": [
      "네가 생각한 답은 4197971.0 원이야!\n"
     ]
    }
   ],
   "source": [
    "#'Num1'이라는 변수를 하나 선언하고, 숫자 23571를 넣어줍시다.\n",
    "Num1 = 23571\n",
    "\n",
    "#'Num2'이라는 변수를 하나 선언하고, 'Num1'에 1024를 곱한 값을 넣어줍시다.\n",
    "Num2 = Num1 * 1024\n",
    "\n",
    "#'Num3'이라는 변수를 하나 선언하고, 'Num2'에 243을 나눈 값을 넣어줍시다.\n",
    "Num3 = Num2 / 243\n",
    "\n",
    "#'Num4'이라는 변수를 하나 선언하고, 'Num3'에 4927819을 더한 값을 넣어줍시다.\n",
    "Num4 = Num3 + 4927819\n",
    "\n",
    "#'Answer'이라는 변수를 하나 선언하고, 'Num4'에 829176을 뺀 값을 넣어줍시다.\n",
    "Answer = Num4 - 829176\n",
    "\n",
    "#지효에게 외쳐봅시다. '네가 생각한 답은 Answer원이야!'\n",
    "print(\"네가 생각한 답은\", Answer, \"원이야!\")"
   ]
  },
  {
   "cell_type": "markdown",
   "id": "a3d15f60",
   "metadata": {},
   "source": [
    "### 거꾸로 계산기\n",
    "숫자형 연산 중에서는 <br>\n",
    "몫을 구하는 연산자(//), <br>\n",
    "나머지를 구하는 연산자(%), <br>\n",
    "거듭제곱을 구하는 연산자(**)가 있습니다.\n",
    "\n",
    "우리가 원하는 값을 알고 있을때, //, %, **을 이용해서 이 값이 나오는 수식을 작성해봅시다."
   ]
  },
  {
   "cell_type": "code",
   "execution_count": 6,
   "id": "0a0b8ca1",
   "metadata": {},
   "outputs": [
    {
     "name": "stdout",
     "output_type": "stream",
     "text": [
      "4 1 16\n"
     ]
    }
   ],
   "source": [
    "# //을 이용해서 변수 intdiv에 4를 넣는 수식을 작성해봅시다.\n",
    "intdiv = 16 // 4\n",
    "\n",
    "# %을 이용해서 변수 modular에 1을 넣는 수식을 작성해봅시다.\n",
    "modular = 7 % 6\n",
    "\n",
    "# **을 이용해서 변수 expo에 16을 넣는 수식을 작성해봅시다.\n",
    "expo = 2**4\n",
    "\n",
    "#위의 세 변수를 출력해서 확인해봅시다.\n",
    "print(intdiv, modular, expo)"
   ]
  },
  {
   "cell_type": "markdown",
   "id": "72735240",
   "metadata": {},
   "source": [
    "### 문자열 연산을 해봅시다!\n",
    "숫자 뿐만 아니라 문자열에도 연산이 존재합니다. +(더하기)는 뒤에 다른 문자열을 붙일 수 있는 연산자이고, *(곱하기)는 문자열을 반복할 수 있는 연산자로, 뒤에 반복할 횟수(숫자)가 붙습니다.\n",
    "```Python\n",
    "print(\"안녕\"+\"하세요\") # 안녕하세요\n",
    "print(\"안녕\" * 3) # 안녕안녕안녕\n",
    "```\n",
    "문자열 연산을 활용해서 다음 미션을 수행해봅시다. 얼쑤!"
   ]
  },
  {
   "cell_type": "code",
   "execution_count": 7,
   "id": "f4aed4cf",
   "metadata": {},
   "outputs": [
    {
     "name": "stdout",
     "output_type": "stream",
     "text": [
      "덩덕쿵덕 쿵덕쿵덕 덩덕쿵덕쿵덕쿵덕덩덕쿵덕쿵덕쿵덕\n"
     ]
    }
   ],
   "source": [
    "# 변수 connect_str를 선언하고, 연결 연산자를 이용해서 '덩덕쿵덕'를 넣어봅시다.\n",
    "connect_str = '덩덕' + '쿵덕'\n",
    "\n",
    "# 변수 iterate_str를 선언하고 반복 연산자를 이용해서 '쿵덕쿵덕'을 넣어봅시다.\n",
    "iterate_str = '쿵덕' * 2\n",
    "\n",
    "# 위 두 변수를 이용해서 '덩덕쿵덕쿵덕쿵덕덩덕쿵덕쿵덕쿵덕'을 변수 jajinmori에 넣어봅시다\n",
    "jajinmori = ( connect_str + iterate_str ) * 2\n",
    "\n",
    "print(connect_str, iterate_str, jajinmori)"
   ]
  },
  {
   "cell_type": "markdown",
   "id": "bb1fcea0",
   "metadata": {},
   "source": [
    "### 멈출 수 없는 중독성, 도벽!\n",
    "두 보석상 다현과 쯔위가 보석을 옮기고 있습니다.\n",
    "앗! 그런데 눈에 띄게 빛나는 보석이 있어요.\n",
    "인덱싱와 슬라이싱을 이용해서, 직접 저 보석을 한번 훔쳐볼까요?\n",
    "\n",
    "오른쪽의 지시대로 다현과 쯔위의 보석을 훔쳐봅시다!\n",
    "\n",
    "과연 다현과 쯔위는 짐을 도둑맞았을까요?"
   ]
  },
  {
   "cell_type": "code",
   "execution_count": 8,
   "id": "d07cda43",
   "metadata": {},
   "outputs": [
    {
     "name": "stdout",
     "output_type": "stream",
     "text": [
      "dahyun로부터 훔쳐온 보석은 다이아몬드\n",
      "tzuyu로부터 훔쳐온 보석은 ['금', '금', '금']\n"
     ]
    }
   ],
   "source": [
    "#dahyun가 가지고 있는 보석 중에 특별히 빛나는 보석이 있어요! 이를 훔쳐볼까요?\n",
    "dahyun = ['은', '은', '다이아몬드', '은', '은', '은', '은', '은']\n",
    "\n",
    "#이 가방에 한번 넣어봅시다!\n",
    "stealBag1 = dahyun[2]\n",
    "\n",
    "#tzuyu는 금빛 보석을 많이 가지고 있네요! 이도 한번 훔쳐볼까요?\n",
    "tzuyu = ['은', '은', '은', '은', '금', '금', '금', '은', '은', '은']\n",
    "\n",
    "#이 가방에 한번 넣어봅시다!\n",
    "stealBag2 = tzuyu[4:7]\n",
    "\n",
    "#여러분이 훔쳐온 보석은 무엇인지 print()를 이용해서 한번 확인해보세요!\n",
    "print('dahyun로부터 훔쳐온 보석은', stealBag1)\n",
    "print('tzuyu로부터 훔쳐온 보석은', stealBag2)"
   ]
  },
  {
   "cell_type": "markdown",
   "id": "019a6742",
   "metadata": {},
   "source": [
    "### 별이 빛나는 밤이에요!\n",
    "밤 하늘에 수많은 별이 보입니다.\n",
    "그런데 와우! 여러분은 ‘계단 모양의’ 별자리를 발견했어요!\n",
    "```\n",
    "*\n",
    "**\n",
    "***\n",
    "****\n",
    "*****\n",
    "```\n",
    "친구한테 말해보니 이를 전혀 믿지 않는 눈치입니다.\n",
    "파이썬을 배운 우리, 그때 본 모양을 출력해서 보여줍시다."
   ]
  },
  {
   "cell_type": "code",
   "execution_count": 9,
   "id": "2baabec8",
   "metadata": {},
   "outputs": [
    {
     "name": "stdout",
     "output_type": "stream",
     "text": [
      "*\n",
      "**\n",
      "***\n",
      "****\n",
      "*****\n"
     ]
    }
   ],
   "source": [
    "print('*')\n",
    "print('**')\n",
    "print('***')\n",
    "print('****')\n",
    "print('*****')"
   ]
  },
  {
   "cell_type": "markdown",
   "id": "0430e342",
   "metadata": {},
   "source": [
    "### 섭씨를 화씨로 변환해봅시다!\n",
    "우리나라는 온도의 단위가 섭씨(℃)인 반면, 미국에서는 화씨(℉)를 사용합니다. 이 둘 사이의 관계는 다음과 같습니다\n",
    "```\n",
    "[℉] = [℃] * (9/5) + 32\n",
    "\n",
    "# ℉는 화씨, ℃는 섭씨\n",
    "```\n",
    "\n",
    "이때, 온도는 숫자이기 때문에, 우리가 배운 숫자의 사칙연산으로 섭씨를 화씨로 변환할 수 있습니다! 지시사항을 따라서 섭씨를 화씨로 바꿔봅시다."
   ]
  },
  {
   "cell_type": "code",
   "execution_count": 10,
   "id": "fb0efd3e",
   "metadata": {},
   "outputs": [
    {
     "name": "stdout",
     "output_type": "stream",
     "text": [
      "[18, 64.4]\n"
     ]
    }
   ],
   "source": [
    "#섭씨온도를 담을 변수 c를 선언하고, 숫자 18을 담아봅시다.\n",
    "c = 18\n",
    "\n",
    "#화씨온도를 담을 변수 f를 선언하고, c와 섭씨-화씨 변환식을 이용해서 값을 담아봅시다.\n",
    "f = c * (9/5) + 32\n",
    "\n",
    "#변수 today_temp를 선언하고, 섭씨온도 c와 화씨온도 f를 순서대로 담은 리스트를 담아봅시다.\n",
    "today_temp = [c,f]\n",
    "\n",
    "#맞게 변환했는지 today_temp를 print()로 확인해봅시다.\n",
    "print(today_temp)"
   ]
  }
 ],
 "metadata": {
  "kernelspec": {
   "display_name": "Python 3 (ipykernel)",
   "language": "python",
   "name": "python3"
  },
  "language_info": {
   "codemirror_mode": {
    "name": "ipython",
    "version": 3
   },
   "file_extension": ".py",
   "mimetype": "text/x-python",
   "name": "python",
   "nbconvert_exporter": "python",
   "pygments_lexer": "ipython3",
   "version": "3.9.7"
  }
 },
 "nbformat": 4,
 "nbformat_minor": 5
}
