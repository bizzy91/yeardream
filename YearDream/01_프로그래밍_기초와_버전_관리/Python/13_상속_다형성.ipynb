{
 "cells": [
  {
   "cell_type": "markdown",
   "id": "763ca079",
   "metadata": {},
   "source": [
    "## 링크가 있는 게시물\n",
    "\n",
    "Facebook의 개념들을 클래스로 구현해 봅니다.\n",
    "\n",
    "실습 1에서는 Facebook에서 외부의 사이트로 이동하는 링크가 포함된 게시물(LinkPost)을 구현해 보겠습니다.\n",
    "\n",
    "LinkPost는 다음과 같은 조건들을 만족해야 합니다.\n",
    "\n",
    "* Post를 상속받습니다.\n",
    "* 웹사이트 주소 형식의 문자열 속성 url을 갖습니다.\n",
    "* 링크를 클릭했을 때의 액션을 정의한 on_click() 메소드를 갖습니다.\n",
    "LinkPost의 생성자는 author, content, url 총 3개의 매개변수를 순서대로 받습니다. 이 실습에서는 author와 post의 형태는 체크하지 않습니다.\n",
    "\n",
    "올바른 웹사이트 주소 형식은 \"http://\" 혹은 \"https://\"로 시작해야 합니다. 이를 확인하기 위해 Python 문자열의 메소드인 .startswith()를 사용합니다. 만일 주소 형식이 올바르지 않을 경우 ValueError를 발생시킵니다.\n",
    "\n",
    "on_click() 메소드에서는 미리 정의된 go_to(link) 함수를 호출합니다. go_to() 메소드는 이동할 웹사이트의 주소를 출력해 줍니다."
   ]
  },
  {
   "cell_type": "code",
   "execution_count": 22,
   "id": "86e1068e",
   "metadata": {},
   "outputs": [
    {
     "name": "stdout",
     "output_type": "stream",
     "text": [
      "Naver로 이동합니다.\n"
     ]
    }
   ],
   "source": [
    "def go_to(link):\n",
    "    print(f\"{link}로 이동합니다.\")\n",
    "\n",
    "go_to('Naver')"
   ]
  },
  {
   "cell_type": "code",
   "execution_count": 23,
   "id": "c7bb5fbc",
   "metadata": {},
   "outputs": [
    {
     "name": "stdout",
     "output_type": "stream",
     "text": [
      "bizzy\n",
      "Hello!\n",
      "http://naver.com\n",
      "http://naver.com로 이동합니다.\n"
     ]
    }
   ],
   "source": [
    "class Post:\n",
    "    def __init__(self, author, content):\n",
    "        self.author = author\n",
    "        self.content = content\n",
    "\n",
    "\n",
    "# 아래에 LinkPost를 선언합니다.\n",
    "class LinkPost(Post):\n",
    "    def __init__(self, author, content, url):\n",
    "        # 물려받은 Post(부모 클래스) 클래스의 메소드를 사용할 때, super().메소드\n",
    "        super().__init__(author, content)\n",
    "        if url.startswith('http://') or url.startswith('https://'):\n",
    "            self.url = url\n",
    "        else:\n",
    "            raise ValueError\n",
    "    def on_click(self):\n",
    "        go_to(self.url)\n",
    "\n",
    "post = LinkPost('bizzy', 'Hello!', 'http://naver.com')\n",
    "print(post.author)\n",
    "print(post.content)\n",
    "print(post.url)\n",
    "post.on_click()"
   ]
  },
  {
   "cell_type": "markdown",
   "id": "2be14291",
   "metadata": {},
   "source": [
    "## 게시물에 반응하기\n",
    "\n",
    "Facebook에서는 좋아요 말고도 슬퍼요, 웃겨요 등의 반응을 남길 수 있습니다. 이 반응들은 공통적인 특성들을 갖지만, 분명 서로 다른 독립적인 성질을 갖고 있습니다. 추상적인 클래스를 활용하면 이 성질을 잘 나타낼 수 있습니다.\n",
    "\n",
    "먼저, 모든 반응을 총칭하는 Reaction 클래스를 정의합니다. Reaction 클래스는 다음의 세 가지 속성을 갖습니다.\n",
    "\n",
    "* reaction_type: Reaction의 종류를 나타냅니다. 알파벳 대문자로 이루어진 문자열이며, “LIKE”, “LOVE”, “HAHA”, “SAD”, “ANGRY”, “WOW” 중 하나입니다. 이 6개 이외의 값이 들어올 경우 ValueError가 발생합니다.\n",
    "* post: Reaction을 남긴 게시물입니다. Post 인스턴스여야 합니다. 아닐 경우, TypeError가 발생합니다.\n",
    "* user: Reaction을 남긴 사용자입니다. User 인스턴스여야 합니다. 아닐 경우, TypeError가 발생합니다.\n",
    "\n",
    "Reaction 클래스의 생성 시점에, 주어진 post의 reactions에 자기 자신을 추가합니다. reactions는 Reaction 인스턴스의 리스트입니다.\n",
    "\n",
    "Reaction의 자식 클래스 Like(좋아요)와 Angry(화나요)를 구현합니다.\n",
    "\n",
    "Like와 Angry는 Reaction의 속성을 똑같이 갖습니다. 단, Like의 reaction_type은 \"LIKE\"이고, Angry의 reaction_type은 \"ANGRY\"입니다. 따라서, 자식 클래스들의 생성자는 post와 user, 두 개의 인자만 받습니다.\n",
    "\n",
    "Like는 생성 시점에 이 리액션이 달린 Post의 positive_reactions의 값을 1만큼 증가시킵니다. Angry는 생성 시점에 이 리액션이 달린 Post의 negative_reactions의 값을 1만큼 증가시킵니다."
   ]
  },
  {
   "cell_type": "code",
   "execution_count": 24,
   "id": "469f1e2b",
   "metadata": {},
   "outputs": [],
   "source": [
    "class User:\n",
    "    def __init__(self, name):\n",
    "        self.name = name\n",
    "\n",
    "class Post:\n",
    "    def __init__(self, content):\n",
    "        self.content = content\n",
    "        self.reactions = []\n",
    "        self.positive_reactions = 0\n",
    "        self.negative_reactions = 0\n",
    "\n",
    "class Reaction:\n",
    "    # 아래 코드의 빈 부분을 완성합니다.\n",
    "    def __init__(self, reaction_type, post, user):\n",
    "        if reaction_type in ['LIKE', 'LOVE', 'HAHA', 'SAD', 'ANGRY', 'WOW']:\n",
    "            self.reaction_type = reaction_type\n",
    "        else:\n",
    "            raise ValueError\n",
    "\n",
    "        if isinstance(post, Post):\n",
    "            self.post = post\n",
    "        else:\n",
    "            raise TypeError\n",
    "\n",
    "        if isinstance(user, User):\n",
    "            self.user = user\n",
    "        else:\n",
    "            raise TypeError\n",
    "\n",
    "        post.reactions.append(self)\n",
    "\n",
    "# 아래 코드의 빈 부분을 완성합니다.\n",
    "class Like(Reaction):\n",
    "    def __init__(self, post, user):\n",
    "        super().__init__('LIKE', post, user)\n",
    "        post.positive_reactions += 1\n",
    "    \n",
    "class Angry(Reaction):\n",
    "    # 아래 코드의 빈 부분을 완성합니다.\n",
    "    def __init__(self, post, user):\n",
    "        super().__init__('ANGRY', post, user)\n",
    "        post.negative_reactions += 1"
   ]
  },
  {
   "cell_type": "code",
   "execution_count": 28,
   "id": "c75bbafc",
   "metadata": {},
   "outputs": [
    {
     "name": "stdout",
     "output_type": "stream",
     "text": [
      "This is content!\n",
      "[]\n",
      "0\n",
      "0\n",
      "A Few Moments Later-------------\n",
      "This is content!\n",
      "[<__main__.Like object at 0x7fb43840e700>, <__main__.Angry object at 0x7fb43840e1c0>, <__main__.Reaction object at 0x7fb43840e7c0>]\n",
      "1\n",
      "1\n",
      "bizzy1 LIKE\n",
      "bizzy2 ANGRY\n",
      "bizzy3 LOVE\n"
     ]
    }
   ],
   "source": [
    "bizzy1 = User('bizzy1')\n",
    "bizzy2 = User('bizzy2')\n",
    "bizzy3 = User('bizzy3')\n",
    "\n",
    "P = Post('This is content!')\n",
    "print(P.content)\n",
    "print(P.reactions)\n",
    "print(P.positive_reactions)\n",
    "print(P.negative_reactions)\n",
    "\n",
    "print('A Few Moments Later-------------')\n",
    "# bizzy1 이 'LIKE'를 누른다.\n",
    "like = Like(P, bizzy1)\n",
    "# bizzy2 가 'ANGRY'를 누른다.\n",
    "angry = Angry(P, bizzy2)\n",
    "# bizzy3 이 'LOVE'를 누른다.\n",
    "reaction3 = Reaction('LOVE', P, bizzy3)\n",
    "print(P.content)\n",
    "print(P.reactions)\n",
    "print(P.positive_reactions)\n",
    "print(P.negative_reactions)\n",
    "\n",
    "for i in range(3):\n",
    "    print(P.reactions[i].user.name, P.reactions[i].reaction_type)\n"
   ]
  },
  {
   "cell_type": "markdown",
   "id": "1d894126",
   "metadata": {},
   "source": [
    "## 게시물 나만 보기\n",
    "\n",
    "자식 클래스가 부모 클래스를 덮어 쓰는 함수 오버라이딩을 직접 사용해 봅시다.\n",
    "\n",
    "Post는 게시물 클래스입니다. 작성자 author, 내용 content, 공유한 유저의 리스트 shared_users, 나만 보기 설정 여부 is_private을 속성으로 갖습니다. 기본적으로 “나만 보기” 설정은 꺼져 있습니다.\n",
    "\n",
    "PrivatePost는 나만 보기로 설정된 게시물을 나타내는 클래스입니다. 다음의 두 가지 특성을 갖습니다.\n",
    "\n",
    "* 생성 시점에 is_private 속성이 True로 설정되어 있습니다.\n",
    "* 공유를 시도할 경우 적절한 메시지와 함께 TypeError가 발생하며, 공유되지 않습니다.\n",
    "\n",
    "함수 오버라이딩을 사용하여 위의 두 조건을 만족하는 PrivatePost 클래스를 완성해 보세요.\n",
    "\n",
    "\n",
    "조건에 맞게 클래스를 완성했다면, 직접 인스턴스를 생성하여 테스트해 봅시다. 잘 작동하는 것 같으면, 제출 버튼을 눌러 채점해 보세요."
   ]
  },
  {
   "cell_type": "code",
   "execution_count": 30,
   "id": "3b70439b",
   "metadata": {},
   "outputs": [],
   "source": [
    "class Post:\n",
    "    def __init__(self, author, content):\n",
    "        self.author = author\n",
    "        self.content = content\n",
    "        self.shared_users = []\n",
    "        self.is_private = False\n",
    "\n",
    "    def share(self, user):\n",
    "        self.shared_users.append(user)\n",
    "        \n",
    "\n",
    "class PrivatePost(Post):\n",
    "    # 생성자를 구현합니다.\n",
    "    # is_private 속성을 True 로 설정합니다.\n",
    "    def __init__(self, author, content):\n",
    "        super().__init__(author, content)\n",
    "        self.is_private = True\n",
    "    \n",
    "    # share 메소드를 호출 시 TypeError를 발생시킵니다.\n",
    "    def share(self, user):\n",
    "        raise TypeError"
   ]
  },
  {
   "cell_type": "code",
   "execution_count": 35,
   "id": "0b324dce",
   "metadata": {},
   "outputs": [
    {
     "name": "stdout",
     "output_type": "stream",
     "text": [
      "Post--------------------\n",
      "bizzy\n",
      "This is content!\n",
      "[]\n",
      "False\n",
      "Private Post--------------------\n",
      "bizzy\n",
      "This is content!\n",
      "[]\n",
      "True\n"
     ]
    },
    {
     "ename": "TypeError",
     "evalue": "share() missing 1 required positional argument: 'user'",
     "output_type": "error",
     "traceback": [
      "\u001b[0;31m---------------------------------------------------------------------------\u001b[0m",
      "\u001b[0;31mTypeError\u001b[0m                                 Traceback (most recent call last)",
      "\u001b[0;32m/var/folders/sg/90lzw3nd6wq_vcrjydqm17cc0000gn/T/ipykernel_13114/37285239.py\u001b[0m in \u001b[0;36m<module>\u001b[0;34m\u001b[0m\n\u001b[1;32m     12\u001b[0m \u001b[0mprint\u001b[0m\u001b[0;34m(\u001b[0m\u001b[0mPP\u001b[0m\u001b[0;34m.\u001b[0m\u001b[0mshared_users\u001b[0m\u001b[0;34m)\u001b[0m\u001b[0;34m\u001b[0m\u001b[0;34m\u001b[0m\u001b[0m\n\u001b[1;32m     13\u001b[0m \u001b[0mprint\u001b[0m\u001b[0;34m(\u001b[0m\u001b[0mPP\u001b[0m\u001b[0;34m.\u001b[0m\u001b[0mis_private\u001b[0m\u001b[0;34m)\u001b[0m\u001b[0;34m\u001b[0m\u001b[0;34m\u001b[0m\u001b[0m\n\u001b[0;32m---> 14\u001b[0;31m \u001b[0mPP\u001b[0m\u001b[0;34m.\u001b[0m\u001b[0mshare\u001b[0m\u001b[0;34m(\u001b[0m\u001b[0;34m)\u001b[0m\u001b[0;34m\u001b[0m\u001b[0;34m\u001b[0m\u001b[0m\n\u001b[0m",
      "\u001b[0;31mTypeError\u001b[0m: share() missing 1 required positional argument: 'user'"
     ]
    }
   ],
   "source": [
    "print('Post--------------------')\n",
    "P = Post('bizzy', 'This is content!')\n",
    "print(P.author)\n",
    "print(P.content)\n",
    "print(P.shared_users)\n",
    "print(P.is_private)\n",
    "\n",
    "print('Private Post--------------------')\n",
    "PP = PrivatePost('bizzy', 'This is content!')\n",
    "print(PP.author)\n",
    "print(PP.content)\n",
    "print(PP.shared_users)\n",
    "print(PP.is_private)\n",
    "PP.share()"
   ]
  },
  {
   "cell_type": "code",
   "execution_count": null,
   "id": "d28c8903",
   "metadata": {},
   "outputs": [],
   "source": []
  }
 ],
 "metadata": {
  "kernelspec": {
   "display_name": "Python 3 (ipykernel)",
   "language": "python",
   "name": "python3"
  },
  "language_info": {
   "codemirror_mode": {
    "name": "ipython",
    "version": 3
   },
   "file_extension": ".py",
   "mimetype": "text/x-python",
   "name": "python",
   "nbconvert_exporter": "python",
   "pygments_lexer": "ipython3",
   "version": "3.9.7"
  }
 },
 "nbformat": 4,
 "nbformat_minor": 5
}
