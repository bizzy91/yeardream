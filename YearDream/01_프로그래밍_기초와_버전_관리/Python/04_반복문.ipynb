{
 "cells": [
  {
   "cell_type": "markdown",
   "id": "a6957c75",
   "metadata": {},
   "source": [
    "### 원소로 반복하기, for문!\n",
    "\n",
    "지난 시간에 다뤘던 시퀀스에서, 우리는 시퀀스 안의 각각의 원소에 대해 조건을 확인하거나, 원소를 모두 더하는 등을 해야할 필요가 생겼습니다.\n",
    "\n",
    "그런데 시퀀스의 원소가 많아지면 같은 작업을 반복해서 해야합니다. 이 과정이 복잡하기에 사람들은 시퀀스의 원소에 따라 효과적으로 반복할 수 있는 문법을 만들어내었고, 그것이 for문 입니다.\n",
    "\n",
    "```Python\n",
    "my_sum = 0\n",
    "nums = [1, 2, 3]\n",
    "for i in nums:\n",
    "  my_sum = my_sum + i\n",
    "\n",
    "print(my_sum) #6\n",
    "```"
   ]
  },
  {
   "cell_type": "code",
   "execution_count": 1,
   "id": "9880d26e",
   "metadata": {},
   "outputs": [
    {
     "name": "stdout",
     "output_type": "stream",
     "text": [
      "1\n",
      "2\n",
      "3\n",
      "4\n",
      "5\n",
      "6\n",
      "7\n",
      "8\n",
      "9\n",
      "10\n"
     ]
    }
   ],
   "source": [
    "nums = [1, 2, 3, 4, 5, 6, 7, 8, 9, 10]\n",
    "for i in nums:\n",
    "    print(i)"
   ]
  },
  {
   "cell_type": "markdown",
   "id": "c73bf5ef",
   "metadata": {},
   "source": [
    "### 쌀과 씰! 구분할 수 있나요?\n",
    "\n",
    "변수 mix는 문자 쌀과 문자 씰이 혼합된 문자열입니다.쌀이 몇 개 있는지 알고 싶은데, 직접 세기에는 눈이 너무 아프겠죠? for과 sequence를 이용해서 쌀과 씰의 개수를 세봅시다!\n",
    "\n",
    "예를 들어서 쌀의 개수가 10개라면 다음과 같이 출력하면 됩니다.\n",
    "\n",
    "```Python\n",
    "10\n",
    "```"
   ]
  },
  {
   "cell_type": "code",
   "execution_count": 2,
   "id": "9de88358",
   "metadata": {},
   "outputs": [
    {
     "name": "stdout",
     "output_type": "stream",
     "text": [
      "300\n"
     ]
    }
   ],
   "source": [
    "## 변수 mix에 있는 \"쌀\"의 개수를 세봅시다.\n",
    "mix = \"쌀씰쌀쌀씰쌀씰쌀씰쌀쌀씰쌀씰쌀씰쌀쌀씰쌀씰쌀씰쌀쌀씰쌀씰쌀씰쌀쌀씰쌀씰쌀씰쌀쌀씰쌀씰쌀씰쌀쌀씰쌀씰쌀씰쌀쌀씰쌀씰쌀씰쌀쌀씰쌀씰쌀씰쌀쌀씰쌀씰쌀씰쌀쌀씰쌀씰쌀씰쌀쌀씰쌀씰쌀씰쌀쌀씰쌀씰쌀씰쌀쌀씰쌀씰쌀씰쌀쌀씰쌀씰쌀씰쌀쌀씰쌀씰쌀씰쌀쌀씰쌀씰쌀씰쌀쌀씰쌀씰쌀씰쌀쌀씰쌀씰쌀씰쌀쌀씰쌀씰쌀씰쌀쌀씰쌀씰쌀씰쌀쌀씰쌀씰쌀씰쌀쌀씰쌀씰쌀씰쌀쌀씰쌀씰쌀씰쌀쌀씰쌀씰쌀씰쌀쌀씰쌀씰쌀씰쌀쌀씰쌀씰쌀씰쌀쌀씰쌀씰쌀씰쌀쌀씰쌀씰쌀씰쌀쌀씰쌀씰쌀씰쌀쌀씰쌀씰쌀씰쌀쌀씰쌀씰쌀씰쌀쌀씰쌀씰쌀씰쌀쌀씰쌀씰쌀씰쌀쌀씰쌀씰쌀씰쌀쌀씰쌀씰쌀씰쌀쌀씰쌀씰쌀씰쌀쌀씰쌀씰쌀씰쌀쌀씰쌀씰쌀씰쌀쌀씰쌀씰쌀씰쌀쌀씰쌀씰쌀씰쌀쌀씰쌀씰쌀씰쌀쌀씰쌀씰쌀씰쌀쌀씰쌀씰쌀씰쌀쌀씰쌀씰쌀씰쌀쌀씰쌀씰쌀씰쌀쌀씰쌀씰쌀씰쌀쌀씰쌀씰쌀씰쌀쌀씰쌀씰쌀씰쌀쌀씰쌀씰쌀씰쌀쌀씰쌀씰쌀씰쌀쌀씰쌀씰쌀씰쌀쌀씰쌀씰쌀씰쌀쌀씰쌀씰쌀씰쌀쌀씰쌀씰쌀씰쌀쌀씰쌀씰쌀씰쌀쌀씰쌀씰쌀씰쌀쌀씰쌀씰쌀씰쌀쌀씰쌀씰쌀씰쌀쌀씰쌀씰쌀씰쌀쌀씰쌀씰쌀씰쌀쌀씰쌀씰쌀씰쌀쌀씰쌀씰쌀씰쌀쌀씰쌀씰쌀씰쌀쌀씰쌀씰쌀씰쌀쌀씰쌀씰쌀씰쌀쌀씰쌀씰쌀씰쌀쌀씰쌀씰쌀씰쌀쌀씰쌀씰쌀씰쌀쌀씰쌀씰쌀씰쌀쌀씰쌀씰쌀씰쌀쌀씰쌀씰쌀씰쌀쌀씰쌀씰쌀씰쌀쌀씰쌀씰쌀씰쌀쌀씰쌀씰\"\n",
    "\n",
    "# 변수 mix에 있는 “쌀”의 개수를 세는 프로그램을 작성해봅시다.\n",
    "count = 0\n",
    "for i in mix:\n",
    "    if i == \"쌀\":\n",
    "        count += 1\n",
    "print(count)"
   ]
  },
  {
   "cell_type": "markdown",
   "id": "acbc83f9",
   "metadata": {},
   "source": [
    "### 반복할 숫자의 범위를 알고있다면? range(__ , __)!\n",
    "\n",
    "연속된 정수를 담은 시퀀스가 필요한 경우에는, 이를 만들어주는 함수 range()를 사용합니다.\n",
    "\n",
    "range(a, b) : a 이상 b 미만의 연속된 정수가 담긴 시퀀스를 만들어주는 함수\n",
    "따라서 다음과 같이 작성하면 1부터 100까지 숫자를 한줄에 하나씩 출력합니다.\n",
    "\n",
    "```Python\n",
    "for i in range(1, 101):\n",
    "    print(i)\n",
    "```"
   ]
  },
  {
   "cell_type": "code",
   "execution_count": 3,
   "id": "0472d9bc",
   "metadata": {},
   "outputs": [
    {
     "name": "stdout",
     "output_type": "stream",
     "text": [
      "1\n",
      "2\n",
      "3\n",
      "4\n",
      "5\n",
      "6\n",
      "7\n",
      "8\n",
      "9\n",
      "10\n"
     ]
    }
   ],
   "source": [
    "for i in range(1, 11):\n",
    "    print(i)"
   ]
  },
  {
   "cell_type": "markdown",
   "id": "57af6160",
   "metadata": {},
   "source": [
    "### 반복할 횟수를 알고있다면? range(__)!\n",
    "\n",
    "반복할 횟수를 알고 있는 경우에는, range()를 이용해서 편하게 반복문을 만들 수 있습니다.\n",
    "\n",
    "* range(a) : a번 반복\n",
    "\n",
    "따라서 다음과 같이 작성하면 “안녕!”을 5번 출력합니다.\n",
    "\n",
    "```Python\n",
    "for i in range(5):\n",
    "    print(\"안녕!\")\n",
    "```"
   ]
  },
  {
   "cell_type": "code",
   "execution_count": 4,
   "id": "9b009d27",
   "metadata": {},
   "outputs": [
    {
     "name": "stdout",
     "output_type": "stream",
     "text": [
      "I Love Python!\n",
      "I Love Python!\n",
      "I Love Python!\n",
      "I Love Python!\n",
      "I Love Python!\n"
     ]
    }
   ],
   "source": [
    "for i in range(5):\n",
    "    print(\"I Love Python!\")"
   ]
  },
  {
   "cell_type": "markdown",
   "id": "25724b51",
   "metadata": {},
   "source": [
    "### 19단을 외자!\n",
    "\n",
    "초등학교 2학년, 삼일은 삼, 삼이는 육…\n",
    "구구단을 열심히 외웠던 기억! 다들 있으신가요?\n",
    "그런데 인도에서는 무려 19단까지 외운다고 해요!\n",
    "\n",
    "하지만 우리는 19단을 할 줄 모르죠…\n",
    "for와 range를 이용해\n",
    "이를 컴퓨터에게 대신 시켜봅시다!\n",
    "\n",
    "19단을 외워 아래의 결과처럼 출력해보아요!\n",
    "\n",
    "```Python\n",
    "19 * 1 = 19\n",
    "19 * 2 = 38\n",
    "...\n",
    "19 * 18 = 342\n",
    "19 * 19 = 361\n",
    "```"
   ]
  },
  {
   "cell_type": "code",
   "execution_count": 5,
   "id": "dc6893a9",
   "metadata": {},
   "outputs": [
    {
     "name": "stdout",
     "output_type": "stream",
     "text": [
      "19 * 1 = 19\n",
      "19 * 2 = 38\n",
      "19 * 3 = 57\n",
      "19 * 4 = 76\n",
      "19 * 5 = 95\n",
      "19 * 6 = 114\n",
      "19 * 7 = 133\n",
      "19 * 8 = 152\n",
      "19 * 9 = 171\n",
      "19 * 10 = 190\n",
      "19 * 11 = 209\n",
      "19 * 12 = 228\n",
      "19 * 13 = 247\n",
      "19 * 14 = 266\n",
      "19 * 15 = 285\n",
      "19 * 16 = 304\n",
      "19 * 17 = 323\n",
      "19 * 18 = 342\n",
      "19 * 19 = 361\n"
     ]
    }
   ],
   "source": [
    "#for-range()를 이용해서 19단을 전부 출력해봅시다!\n",
    "for i in range(1,20):\n",
    "    print(19, \"* {0} = {1}\".format(i, 19*i))"
   ]
  },
  {
   "cell_type": "markdown",
   "id": "ce90a17c",
   "metadata": {},
   "source": [
    "### 조건에 따라 반복하고 싶다면? while!\n",
    "\n",
    "조건에 의한 반복이 필요한 경우가 있습니다. 이런 경우에는 while을 이용해서 반복문을 만들어줍니다.\n",
    "\n",
    "* while 조건: : 조건이 *True(참)*이면 while 내부의 명령들을 실행. (언제까지? 조건이 False가 될 때까지!)\n",
    "\n",
    "예를 들어, i를 카운트다운 하는 상황인 경우, 다음과 같이 작성하면 5부터 1까지 숫자를 거꾸로 출력합니다.\n",
    "\n",
    "```Python\n",
    "i = 5\n",
    "while i>0:\n",
    "    print(i)\n",
    "    i = i - 1\n",
    "```"
   ]
  },
  {
   "cell_type": "code",
   "execution_count": 6,
   "id": "2142ba7d",
   "metadata": {},
   "outputs": [
    {
     "name": "stdout",
     "output_type": "stream",
     "text": [
      "1\n",
      "2\n",
      "3\n",
      "4\n",
      "5\n",
      "6\n",
      "7\n",
      "8\n",
      "9\n",
      "10\n"
     ]
    }
   ],
   "source": [
    "i = 1\n",
    "while i<11:\n",
    "    print(i)\n",
    "    i = i + 1"
   ]
  },
  {
   "cell_type": "markdown",
   "id": "04112901",
   "metadata": {},
   "source": [
    "### 숙제를 밀린 당신, 10년형에 처합니다!\n",
    "\n",
    "이곳은 코딩법정, 당신은 피의자의 자리에 앉아 있습니다.\n",
    "죄목은 '파이썬태만죄', 다른 바쁜 일로 인해 파이썬을 소홀히 한 죄입니다.\n",
    "오만가지 생각이 들고 있을때, 귀도 반 로섬 판사님께서 판결을 내리고 있습니다!\n",
    "\n",
    ">“익숙함에 속아 소중한 것을 잃어버리다니, 딱하다! 징역 10년형에 처한다!”\n",
    "\n",
    "while문을 이용해서 10년형을 살고, 새 사람이 되어 나와봅시다!\n",
    "\n",
    "#### 출력결과\n",
    "\n",
    "```Python\n",
    "1 년째 수감 중입니다.\n",
    "2 년째 수감 중입니다.\n",
    "...\n",
    "9 년째 수감 중입니다.\n",
    "10 년째 수감 중입니다.\n",
    "감옥에서 석방되었습니다!\n",
    "```"
   ]
  },
  {
   "cell_type": "code",
   "execution_count": 7,
   "id": "3a1c77fa",
   "metadata": {},
   "outputs": [
    {
     "name": "stdout",
     "output_type": "stream",
     "text": [
      "1 년째 수감 중입니다.\n",
      "2 년째 수감 중입니다.\n",
      "3 년째 수감 중입니다.\n",
      "4 년째 수감 중입니다.\n",
      "5 년째 수감 중입니다.\n",
      "6 년째 수감 중입니다.\n",
      "7 년째 수감 중입니다.\n",
      "8 년째 수감 중입니다.\n",
      "9 년째 수감 중입니다.\n",
      "10 년째 수감 중입니다.\n",
      "감옥에서 석방되었습니다!\n"
     ]
    }
   ],
   "source": [
    "#while을 이용해서 \"i 년째 수감중입니다.\"를 출력해봅시다.\n",
    "#while문이 종료된 후에는, \"감옥에서 석방되었습니다!\"를 출력해봅시다.\n",
    "i = 1\n",
    "while i < 11:\n",
    "    print('{} 년째 수감 중입니다.'.format(i))\n",
    "    i += 1\n",
    "print(\"감옥에서 석방되었습니다!\")"
   ]
  },
  {
   "cell_type": "markdown",
   "id": "d13d72bc",
   "metadata": {},
   "source": [
    "### 조건문을 빠져나오고 싶으면? break!\n",
    "\n",
    "for문이나 while문을 사용하다가, 특정한 경우에 반복문을 강제로 종료해야하는 경우가 있습니다. 이런 경우에는 break를 이용해서 반복문을 탈출할 수 있습니다.\n",
    "\n",
    "* break : 반복문을 탈출한다.\n",
    "\n",
    "break는 실행되는 즉시 반복문을 탈출하기 때문에, 보통 조건문과 함께 사용됩니다.\n",
    "\n",
    "예를 들어, 0부터 9까지의 숫자를 출력하다가 숫자가 5이면 “i가 5입니다”라는 문장과 함께 반복문을 종료하는 코드를 다음과 같이 작성할 수 있습니다.\n",
    "\n",
    "```Python\n",
    "for i in range(0, 10):\n",
    "    if i == 5:\n",
    "        print(\"i가 5입니다\")\n",
    "        break\n",
    "    print(i)\n",
    "```\n",
    "\n",
    "들여쓰기에 주의하세요! 들여쓰기를 어떻게 하느냐에 따라 실행 결과가 달라질 수 있습니다."
   ]
  },
  {
   "cell_type": "code",
   "execution_count": 8,
   "id": "2f83809e",
   "metadata": {},
   "outputs": [
    {
     "name": "stdout",
     "output_type": "stream",
     "text": [
      "1\n",
      "2\n",
      "3\n",
      "4\n",
      "5\n",
      "i가 5에요!\n"
     ]
    }
   ],
   "source": [
    "i = 1\n",
    "while True: \n",
    "    print(i)\n",
    "    if i == 5:\n",
    "        print(\"i가 5에요!\")\n",
    "        break\n",
    "    i = i + 1"
   ]
  },
  {
   "cell_type": "markdown",
   "id": "a6c42ca3",
   "metadata": {},
   "source": [
    "### 위기탈출 넘버원\n",
    "\n",
    "break문으로 당신의 소중한 코드를 무한루프로부터 지킬 수 있습니다!\n",
    "\n",
    "평소에도 코딩을 열심히 하던 준배. 그는 오늘도 엘리스에서 문제를 풀기 시작합니다.\n",
    "\n",
    "그런데! 코드를 다 짜고 보니 코드가 멈추지 않고 계속 출력됩니다.\n",
    "\n",
    "분명 맞게 작성한 것 같은데, 계속 ans가 출력이 안되는 걸 본 준배는 결국 혈압 상승으로 인해 응급실에 실려가게 되었습니다.\n",
    "\n",
    "과연 무엇이 문제였을까요? 오른쪽 준배의 코드를 보고 잘못된 부분을 찾아 고쳐줍시다.\n",
    "\n",
    "---\n",
    "\n",
    "#### 원래 문제\n",
    "\n",
    "while문을 이용해서 1부터 10까지의 합을 구해서 이를 출력해봅시다.\n",
    "\n",
    "```Python\n",
    "i = 1\n",
    "ans = 0\n",
    "while True:\n",
    "    ans = ans + i\n",
    "\n",
    "print(ans)\n",
    "```"
   ]
  },
  {
   "cell_type": "markdown",
   "id": "5a73eb51",
   "metadata": {},
   "source": [
    "#### 수정 후"
   ]
  },
  {
   "cell_type": "code",
   "execution_count": 11,
   "id": "c50f6e95",
   "metadata": {},
   "outputs": [
    {
     "name": "stdout",
     "output_type": "stream",
     "text": [
      "55\n"
     ]
    }
   ],
   "source": [
    "# 다음은 while True:를 이용하여 준배가 짠 코드입니다.\n",
    "i = 0\n",
    "ans = 0\n",
    "while True:\n",
    "    i += 1\n",
    "    ans = ans + i\n",
    "    if i == 10:\n",
    "        break\n",
    "\n",
    "print(ans)\n",
    "# 위 코드에서 잘못된 점을 찾아서 고쳐줍시다!\n",
    "# 단, while True: 부분은 수정하면 안됩니다."
   ]
  },
  {
   "cell_type": "markdown",
   "id": "6547d534",
   "metadata": {},
   "source": [
    "### 계단 별자리가 점점 커지고있어요!\n",
    "\n",
    "1장에서는 print()를 5번 사용해서 계단 별자리를 출력했었습니다. 이번에는 입력한 수에 따라 계단 별자리를 출력하는 프로그램을 작성해봅시다. 3을 입력하면 3층, 5를 입력하면 5층 계단 별자리를 말이죠!\n",
    "\n",
    "```\n",
    "*\n",
    "**\n",
    "***\n",
    "****\n",
    "...\n",
    "```"
   ]
  },
  {
   "cell_type": "code",
   "execution_count": 12,
   "id": "d3cde9cd",
   "metadata": {},
   "outputs": [
    {
     "name": "stdout",
     "output_type": "stream",
     "text": [
      "7\n",
      "*\n",
      "**\n",
      "***\n",
      "****\n",
      "*****\n",
      "******\n",
      "*******\n"
     ]
    }
   ],
   "source": [
    "n = int(input())\n",
    "for i in range(1,n+1):\n",
    "    print('*'*i)"
   ]
  },
  {
   "cell_type": "markdown",
   "id": "94b421fa",
   "metadata": {},
   "source": [
    "### 평균 구하기!\n",
    "\n",
    "평균을 쉽게 구할 수 있도록 평균을 구하는 프로그램을 작성해봅시다.\n",
    "\n",
    "예를 들어, 다음과 같이 입력을 주면\n",
    "\n",
    "```Python\n",
    "50\n",
    "40\n",
    "30\n",
    "20\n",
    "10\n",
    "0\n",
    "```\n",
    "\n",
    "다음과 같이 출력해주는 프로그램이 되어야합니다.\n",
    "\n",
    "```Python\n",
    "30.0\n",
    "```\n",
    "\n",
    "---\n",
    "\n",
    "while문을 이용해서, 0을 입력할 때 까지 입력을 받습니다. 0을 입력받았으면, 0을 입력한 바로 이전까지의 수들의 평균을 구합니다.\n",
    "\n",
    "Tip!\n",
    "\n",
    "* 평균은 (자료의 합) / (자료의 크기) 입니다."
   ]
  },
  {
   "cell_type": "code",
   "execution_count": 13,
   "id": "7ca51a11",
   "metadata": {},
   "outputs": [
    {
     "name": "stdout",
     "output_type": "stream",
     "text": [
      "65\n",
      "139\n",
      "392\n",
      "239\n",
      "12\n",
      "123\n",
      "22\n",
      "12\n",
      "13\n",
      "34\n",
      "0\n",
      "105.1\n"
     ]
    }
   ],
   "source": [
    "data = []\n",
    "while True:\n",
    "    n = int(input())\n",
    "    if n == 0:\n",
    "        break\n",
    "    data.append(n)\n",
    "\n",
    "print(sum(data)/len(data))"
   ]
  }
 ],
 "metadata": {
  "kernelspec": {
   "display_name": "Python 3 (ipykernel)",
   "language": "python",
   "name": "python3"
  },
  "language_info": {
   "codemirror_mode": {
    "name": "ipython",
    "version": 3
   },
   "file_extension": ".py",
   "mimetype": "text/x-python",
   "name": "python",
   "nbconvert_exporter": "python",
   "pygments_lexer": "ipython3",
   "version": "3.9.7"
  }
 },
 "nbformat": 4,
 "nbformat_minor": 5
}
