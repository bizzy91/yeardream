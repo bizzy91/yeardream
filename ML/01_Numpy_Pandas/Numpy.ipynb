{
 "cells": [
  {
   "cell_type": "code",
   "execution_count": null,
   "id": "43c49380",
   "metadata": {},
   "outputs": [],
   "source": [
    "import numpy\n",
    "import pandas\n",
    "import matplotlib.pyplot\n",
    "import seaborn\n",
    "from sklearn.model_selection import train_test_split"
   ]
  },
  {
   "cell_type": "markdown",
   "id": "34a644af",
   "metadata": {},
   "source": [
    "# ndarray\n",
    "\n",
    "\n",
    "### 개요"
   ]
  },
  {
   "cell_type": "code",
   "execution_count": 2,
   "id": "086a2727",
   "metadata": {},
   "outputs": [
    {
     "name": "stdout",
     "output_type": "stream",
     "text": [
      "array1 type: <class 'numpy.ndarray'>\n",
      "array1 shape: (3,)\n",
      "array2 type: <class 'numpy.ndarray'>\n",
      "array2 shape: (2, 3)\n",
      "array3 type: <class 'numpy.ndarray'>\n",
      "array3 shape: (1, 3)\n",
      "array: 1차원, array2 : 2차원, array3: 2차원\n"
     ]
    }
   ],
   "source": [
    "import numpy as np\n",
    "\n",
    "\n",
    "array1 = np.array([1, 2, 3])\n",
    "print('array1 type:', type(array1))\n",
    "print('array1 shape:', array1.shape)\n",
    "\n",
    "array2 = np.array([[1, 2, 3],\n",
    "                   [2, 3, 4]])\n",
    "print('array2 type:', type(array2))\n",
    "print('array2 shape:', array2.shape)\n",
    "\n",
    "array3 = np.array([[1, 2, 3]])\n",
    "print('array3 type:', type(array3))\n",
    "print('array3 shape:', array3.shape)\n",
    "\n",
    "print('array: {0}차원, array2 : {1}차원, array3: {2}차원'.format(array1.ndim, array2.ndim, array3.ndim))"
   ]
  },
  {
   "cell_type": "markdown",
   "id": "d12ecc37",
   "metadata": {},
   "source": [
    "### 데이터 타입"
   ]
  },
  {
   "cell_type": "code",
   "execution_count": 23,
   "id": "a8c75a44",
   "metadata": {},
   "outputs": [
    {
     "name": "stdout",
     "output_type": "stream",
     "text": [
      "<class 'list'>\n",
      "<class 'numpy.ndarray'>\n",
      "array1: [1 2 3] int64\n",
      "array2: ['1' '2' 'test'] <U21\n",
      "array3: [1. 2. 3.] float64\n",
      "[1 2 3] int64\n",
      "[1. 2. 3.] float64\n",
      "[1 2 3] int32\n",
      "[1.1 2.1 3.1] float64\n",
      "[1 2 3] int32\n"
     ]
    }
   ],
   "source": [
    "list1 = [1, 2, 3]\n",
    "print(type(list1))\n",
    "array1 = np.array(list1)\n",
    "print(type(array1))\n",
    "print('array1:', array1, array1.dtype)\n",
    "\n",
    "list2 = [1, 2, 'test']\n",
    "array2 = np.array(list2)\n",
    "print('array2:', array2, array2.dtype)\n",
    "\n",
    "list3 = [1, 2, 3.0]\n",
    "array3 = np.array(list3)\n",
    "print('array3:', array3, array3.dtype)\n",
    "\n",
    "array_int1 = np.array([1, 2, 3])\n",
    "print(array_int1, array_int1.dtype)\n",
    "\n",
    "# array_int1 (int) -> array_float1 (float)\n",
    "array_float1 = array_int1.astype('float64')\n",
    "print(array_float1, array_float1.dtype)\n",
    "\n",
    "# array_float1 (float) -> array_int2 (int)\n",
    "array_int2 = array_float1.astype('int32')\n",
    "print(array_int2, array_int2.dtype)\n",
    "\n",
    "array_float2 = np.array([1.1, 2.1, 3.1])\n",
    "print(array_float2, array_float2.dtype)\n",
    "\n",
    "# array_float2 (float) -> array_int3 (int)\n",
    "array_int3 = array_float2.astype('int32')\n",
    "print(array_int3, array_int3.dtype)"
   ]
  },
  {
   "cell_type": "markdown",
   "id": "debc301b",
   "metadata": {},
   "source": [
    "### arange, zeros, ones"
   ]
  },
  {
   "cell_type": "code",
   "execution_count": 28,
   "id": "b7b4dd2e",
   "metadata": {},
   "outputs": [
    {
     "name": "stdout",
     "output_type": "stream",
     "text": [
      "[0 1 2 3 4 5 6 7 8 9]\n",
      "int64 (10,)\n",
      "[[0 0]\n",
      " [0 0]\n",
      " [0 0]]\n",
      "int32 (3, 2)\n",
      "[[1. 1.]\n",
      " [1. 1.]\n",
      " [1. 1.]]\n",
      "float64 (3, 2)\n"
     ]
    }
   ],
   "source": [
    "sequence_array = np.arange(10)\n",
    "print(sequence_array)\n",
    "print(sequence_array.dtype, sequence_array.shape)\n",
    "\n",
    "zero_array = np.zeros((3,2), dtype='int32')\n",
    "print(zero_array)\n",
    "print(zero_array.dtype, zero_array.shape)\n",
    "\n",
    "one_array = np.ones((3,2))\n",
    "print(one_array)\n",
    "print(one_array.dtype, one_array.shape)"
   ]
  },
  {
   "cell_type": "markdown",
   "id": "f2b211c9",
   "metadata": {},
   "source": [
    "### reshape"
   ]
  },
  {
   "cell_type": "code",
   "execution_count": 33,
   "id": "d656eee5",
   "metadata": {},
   "outputs": [
    {
     "name": "stdout",
     "output_type": "stream",
     "text": [
      "array1:\n",
      " [0 1 2 3 4 5 6 7 8 9]\n",
      "array2:\n",
      " [[0 1 2 3 4]\n",
      " [5 6 7 8 9]]\n",
      "array3:\n",
      " [[0 1]\n",
      " [2 3]\n",
      " [4 5]\n",
      " [6 7]\n",
      " [8 9]]\n",
      "array4:\n",
      " [[0 1 2 3 4]\n",
      " [5 6 7 8 9]]\n",
      "array5:\n",
      " [[0 1]\n",
      " [2 3]\n",
      " [4 5]\n",
      " [6 7]\n",
      " [8 9]]\n"
     ]
    }
   ],
   "source": [
    "array1 = np.arange(10)\n",
    "print('array1:\\n', array1)\n",
    "\n",
    "array2 = array1.reshape(2, 5)\n",
    "print('array2:\\n', array2)\n",
    "\n",
    "array3 = array2.reshape(5, 2)\n",
    "print('array3:\\n', array3)\n",
    "\n",
    "array4 = array1.reshape(-1, 5)\n",
    "print('array4:\\n', array4)\n",
    "\n",
    "array5 = array2.reshape(5, -1)\n",
    "print('array5:\\n', array5)"
   ]
  },
  {
   "cell_type": "code",
   "execution_count": 37,
   "id": "5893037e",
   "metadata": {},
   "outputs": [
    {
     "name": "stdout",
     "output_type": "stream",
     "text": [
      "array6:\n",
      " [0 1 2 3 4 5 6 7]\n",
      "array7:\n",
      " [[[0 1]\n",
      "  [2 3]]\n",
      "\n",
      " [[4 5]\n",
      "  [6 7]]]\n",
      "[[[0, 1], [2, 3]], [[4, 5], [6, 7]]]\n",
      "array8:\n",
      " [[0]\n",
      " [1]\n",
      " [2]\n",
      " [3]\n",
      " [4]\n",
      " [5]\n",
      " [6]\n",
      " [7]]\n"
     ]
    }
   ],
   "source": [
    "array6 = np.arange(8)\n",
    "print('array6:\\n', array6)\n",
    "\n",
    "array7 = array6.reshape((2, 2, 2))\n",
    "print('array7:\\n', array7)\n",
    "print(array7.tolist())\n",
    "\n",
    "array8 = array6.reshape(-1, 1)\n",
    "print('array8:\\n', array8)"
   ]
  },
  {
   "cell_type": "markdown",
   "id": "eb6d9b5a",
   "metadata": {},
   "source": [
    "### indexing"
   ]
  },
  {
   "cell_type": "code",
   "execution_count": null,
   "id": "9d760942",
   "metadata": {},
   "outputs": [],
   "source": []
  },
  {
   "cell_type": "code",
   "execution_count": null,
   "id": "f1cf9f6d",
   "metadata": {},
   "outputs": [],
   "source": []
  }
 ],
 "metadata": {
  "kernelspec": {
   "display_name": "Python 3 (ipykernel)",
   "language": "python",
   "name": "python3"
  },
  "language_info": {
   "codemirror_mode": {
    "name": "ipython",
    "version": 3
   },
   "file_extension": ".py",
   "mimetype": "text/x-python",
   "name": "python",
   "nbconvert_exporter": "python",
   "pygments_lexer": "ipython3",
   "version": "3.9.7"
  }
 },
 "nbformat": 4,
 "nbformat_minor": 5
}
